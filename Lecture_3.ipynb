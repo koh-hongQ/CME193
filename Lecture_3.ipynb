{
  "cells": [
    {
      "cell_type": "markdown",
      "metadata": {
        "id": "view-in-github",
        "colab_type": "text"
      },
      "source": [
        "<a href=\"https://colab.research.google.com/github/koh-hongQ/CME193/blob/main/Lecture_3.ipynb\" target=\"_parent\"><img src=\"https://colab.research.google.com/assets/colab-badge.svg\" alt=\"Open In Colab\"/></a>"
      ]
    },
    {
      "cell_type": "markdown",
      "metadata": {
        "id": "z4Lzuk_i1tII"
      },
      "source": [
        "# Lecture 3 - NumPy\n",
        "\n",
        "## Assignment 1\n",
        "Assignment 1 is out, it is notebook form. You need to fill in the answers in the cells and produce graphs. It involves markov models, but everything needed for the assignment is explained in the notebook. It is due on **Oct 22nd 5pm**. If you have any questions, come to the office hours.\n",
        "\n",
        "Follow the instructions in the notebook and submit in canvas\n",
        "\n",
        "\n",
        "## NumPy\n",
        "- Most common package for scientific computing with Python\n",
        "- Its fundamental object is `np.array`, an multidimensional array of numbers\n",
        "- Provides linear algebra, Fourier transform, random number capabilities\n",
        "- Building block for other packages (e.g. SciPy, scikit-learn)\n",
        "- Open source, huge dev community!"
      ]
    },
    {
      "cell_type": "code",
      "execution_count": 1,
      "metadata": {
        "id": "wF6B79vu1tIR"
      },
      "outputs": [],
      "source": [
        "import numpy as np"
      ]
    },
    {
      "cell_type": "markdown",
      "metadata": {
        "id": "rLXcTMEu1tIV"
      },
      "source": [
        "## Numpy\n",
        "\n",
        "Main object type is `np.array`\n",
        "\n",
        "Many ways to create it,\n",
        "\n",
        "One way is to convert a python list"
      ]
    },
    {
      "cell_type": "code",
      "execution_count": 2,
      "metadata": {
        "colab": {
          "base_uri": "https://localhost:8080/"
        },
        "id": "nHbB4Zdn1tIW",
        "outputId": "ec449ed9-4e12-4b7c-e7aa-11220b9796fd"
      },
      "outputs": [
        {
          "output_type": "execute_result",
          "data": {
            "text/plain": [
              "array([1, 2, 3])"
            ]
          },
          "metadata": {},
          "execution_count": 2
        }
      ],
      "source": [
        "python_list = [ 1,2,3 ]\n",
        "np.array(python_list)"
      ]
    },
    {
      "cell_type": "code",
      "execution_count": 3,
      "metadata": {
        "colab": {
          "base_uri": "https://localhost:8080/"
        },
        "id": "AkL-Fi0I1tIX",
        "outputId": "7d727228-751e-4bb6-94ff-92b82e461b26"
      },
      "outputs": [
        {
          "output_type": "execute_result",
          "data": {
            "text/plain": [
              "array([1, 2, 3])"
            ]
          },
          "metadata": {},
          "execution_count": 3
        }
      ],
      "source": [
        "arr = np.array([1,2,3])\n",
        "arr"
      ]
    },
    {
      "cell_type": "markdown",
      "metadata": {
        "id": "0-SHteXM1tIZ"
      },
      "source": [
        "Many times a list comprehension is used to create a list and then converted to a array"
      ]
    },
    {
      "cell_type": "code",
      "execution_count": 4,
      "metadata": {
        "colab": {
          "base_uri": "https://localhost:8080/"
        },
        "id": "ayG8ScNa1tIa",
        "outputId": "d06fb849-ae8a-45c2-8d51-288fed6ea98c"
      },
      "outputs": [
        {
          "output_type": "execute_result",
          "data": {
            "text/plain": [
              "array([  4,   8, 512])"
            ]
          },
          "metadata": {},
          "execution_count": 4
        }
      ],
      "source": [
        "arr = np.array([ 2**i for i in [2,3,9] ])\n",
        "arr"
      ]
    },
    {
      "cell_type": "code",
      "execution_count": 5,
      "metadata": {
        "colab": {
          "base_uri": "https://localhost:8080/"
        },
        "id": "_WkONB9E1tIc",
        "outputId": "8b74bb57-4008-4e7b-8578-cc5464c26e04"
      },
      "outputs": [
        {
          "output_type": "execute_result",
          "data": {
            "text/plain": [
              "array([  1,   2,   4,   8,  16,  64, 128, 256, 512])"
            ]
          },
          "metadata": {},
          "execution_count": 5
        }
      ],
      "source": [
        "arr = np.array([ 2**i for i in range(10) if i!= 5 ])\n",
        "arr"
      ]
    },
    {
      "cell_type": "markdown",
      "metadata": {
        "id": "wwvHmoqP1tId"
      },
      "source": [
        "### Exercise\n",
        "Create a numpy array that contain  intergers i  such that  0<i<100 and $2^i$ has the last digit 6"
      ]
    },
    {
      "cell_type": "code",
      "execution_count": null,
      "metadata": {
        "id": "xc8vmjsX1tIe"
      },
      "outputs": [],
      "source": []
    },
    {
      "cell_type": "markdown",
      "metadata": {
        "id": "kuV4Hqjz1tIg"
      },
      "source": [
        "Create a 2D numpy array $A$ such that $A_{ij} = i\\times j$"
      ]
    },
    {
      "cell_type": "code",
      "execution_count": null,
      "metadata": {
        "id": "X2AT4QKa1tIg"
      },
      "outputs": [],
      "source": []
    },
    {
      "cell_type": "markdown",
      "metadata": {
        "id": "-Av1Q_FV1tIh"
      },
      "source": [
        "## Vectorization"
      ]
    },
    {
      "cell_type": "code",
      "execution_count": 6,
      "metadata": {
        "id": "VdxOVTo21tIi"
      },
      "outputs": [],
      "source": [
        "def fn(x):\n",
        "    return x*x + 4*x +5"
      ]
    },
    {
      "cell_type": "code",
      "execution_count": 7,
      "metadata": {
        "colab": {
          "base_uri": "https://localhost:8080/"
        },
        "id": "N0VXg3IP1tIi",
        "outputId": "6de16ce8-6c57-4d50-aa16-9b880de4d390"
      },
      "outputs": [
        {
          "output_type": "execute_result",
          "data": {
            "text/plain": [
              "145"
            ]
          },
          "metadata": {},
          "execution_count": 7
        }
      ],
      "source": [
        "fn(10)"
      ]
    },
    {
      "cell_type": "code",
      "execution_count": 8,
      "metadata": {
        "colab": {
          "base_uri": "https://localhost:8080/"
        },
        "id": "svR3VeLu1tIk",
        "outputId": "8b8b4323-1a63-4494-8cca-5eb82f96cb47"
      },
      "outputs": [
        {
          "output_type": "execute_result",
          "data": {
            "text/plain": [
              "array([ 5.        ,  5.45679012,  5.9382716 ,  6.44444444,  6.97530864,\n",
              "        7.5308642 ,  8.11111111,  8.71604938,  9.34567901, 10.        ])"
            ]
          },
          "metadata": {},
          "execution_count": 8
        }
      ],
      "source": [
        "fn(np.linspace(0,1,10))"
      ]
    },
    {
      "cell_type": "markdown",
      "metadata": {
        "id": "iQEEEC-t1tIl"
      },
      "source": [
        "### Exercise\n",
        "Create an array of first 10 powers of 2"
      ]
    },
    {
      "cell_type": "code",
      "execution_count": null,
      "metadata": {
        "id": "YipFTouN1tIm"
      },
      "outputs": [],
      "source": []
    },
    {
      "cell_type": "markdown",
      "metadata": {
        "id": "GwVfQ7Xk1tIm"
      },
      "source": [
        "## Another way to create a numpy array is with initializing functions\n",
        "\n",
        "- np.zeros\n",
        "- np.ones\n",
        "- np.arange\n",
        "\n",
        "These functions along with `reshape` can be used to create initial matrix without any for loops"
      ]
    },
    {
      "cell_type": "code",
      "execution_count": 9,
      "metadata": {
        "colab": {
          "base_uri": "https://localhost:8080/"
        },
        "id": "jk0kbulf1tIn",
        "outputId": "81ee1209-791c-44b9-e51e-ba107ca0ff08"
      },
      "outputs": [
        {
          "output_type": "execute_result",
          "data": {
            "text/plain": [
              "array([[0., 0., 0., 0., 0., 0., 0., 0., 0., 0.],\n",
              "       [0., 0., 0., 0., 0., 0., 0., 0., 0., 0.],\n",
              "       [0., 0., 0., 0., 0., 0., 0., 0., 0., 0.],\n",
              "       [0., 0., 0., 0., 0., 0., 0., 0., 0., 0.],\n",
              "       [0., 0., 0., 0., 0., 0., 0., 0., 0., 0.],\n",
              "       [0., 0., 0., 0., 0., 0., 0., 0., 0., 0.],\n",
              "       [0., 0., 0., 0., 0., 0., 0., 0., 0., 0.],\n",
              "       [0., 0., 0., 0., 0., 0., 0., 0., 0., 0.],\n",
              "       [0., 0., 0., 0., 0., 0., 0., 0., 0., 0.],\n",
              "       [0., 0., 0., 0., 0., 0., 0., 0., 0., 0.]])"
            ]
          },
          "metadata": {},
          "execution_count": 9
        }
      ],
      "source": [
        "np.zeros((10,10))"
      ]
    },
    {
      "cell_type": "code",
      "execution_count": 10,
      "metadata": {
        "colab": {
          "base_uri": "https://localhost:8080/"
        },
        "id": "3dFrNVxi1tIn",
        "outputId": "9cdbfcba-a6bd-4c36-fcef-159696f476b8"
      },
      "outputs": [
        {
          "output_type": "execute_result",
          "data": {
            "text/plain": [
              "array([[5., 5., 5., 5., 5., 5., 5., 5., 5., 5.],\n",
              "       [5., 5., 5., 5., 5., 5., 5., 5., 5., 5.],\n",
              "       [5., 5., 5., 5., 5., 5., 5., 5., 5., 5.],\n",
              "       [5., 5., 5., 5., 5., 5., 5., 5., 5., 5.],\n",
              "       [5., 5., 5., 5., 5., 5., 5., 5., 5., 5.],\n",
              "       [5., 5., 5., 5., 5., 5., 5., 5., 5., 5.],\n",
              "       [5., 5., 5., 5., 5., 5., 5., 5., 5., 5.],\n",
              "       [5., 5., 5., 5., 5., 5., 5., 5., 5., 5.],\n",
              "       [5., 5., 5., 5., 5., 5., 5., 5., 5., 5.],\n",
              "       [5., 5., 5., 5., 5., 5., 5., 5., 5., 5.]])"
            ]
          },
          "metadata": {},
          "execution_count": 10
        }
      ],
      "source": [
        "5*np.ones((10,10))"
      ]
    },
    {
      "cell_type": "code",
      "execution_count": 12,
      "metadata": {
        "colab": {
          "base_uri": "https://localhost:8080/"
        },
        "id": "FVnlGCKs1tIo",
        "outputId": "558e1d7a-f6ba-4dcc-ca59-4a73289ca19e"
      },
      "outputs": [
        {
          "output_type": "execute_result",
          "data": {
            "text/plain": [
              "array([2, 4, 6, 8])"
            ]
          },
          "metadata": {},
          "execution_count": 12
        }
      ],
      "source": [
        "np.arange(2,10, 2)"
      ]
    },
    {
      "cell_type": "markdown",
      "metadata": {
        "id": "ovy2gOc21tIo"
      },
      "source": [
        "You can combine these functions with arithmetic operations"
      ]
    },
    {
      "cell_type": "code",
      "execution_count": 13,
      "metadata": {
        "colab": {
          "base_uri": "https://localhost:8080/"
        },
        "id": "x4nk55eE1tIo",
        "outputId": "a1a10f46-b68b-4063-d2e2-d2e0b063bdb6"
      },
      "outputs": [
        {
          "output_type": "execute_result",
          "data": {
            "text/plain": [
              "array([[5., 5., 5., 5., 5., 5., 5., 5., 5., 5.],\n",
              "       [5., 5., 5., 5., 5., 5., 5., 5., 5., 5.],\n",
              "       [5., 5., 5., 5., 5., 5., 5., 5., 5., 5.],\n",
              "       [5., 5., 5., 5., 5., 5., 5., 5., 5., 5.],\n",
              "       [5., 5., 5., 5., 5., 5., 5., 5., 5., 5.],\n",
              "       [5., 5., 5., 5., 5., 5., 5., 5., 5., 5.],\n",
              "       [5., 5., 5., 5., 5., 5., 5., 5., 5., 5.],\n",
              "       [5., 5., 5., 5., 5., 5., 5., 5., 5., 5.],\n",
              "       [5., 5., 5., 5., 5., 5., 5., 5., 5., 5.],\n",
              "       [5., 5., 5., 5., 5., 5., 5., 5., 5., 5.]])"
            ]
          },
          "metadata": {},
          "execution_count": 13
        }
      ],
      "source": [
        "np.zeros((10,10)) + 5"
      ]
    },
    {
      "cell_type": "code",
      "execution_count": 14,
      "metadata": {
        "colab": {
          "base_uri": "https://localhost:8080/"
        },
        "id": "tvgZrUxJ1tIp",
        "outputId": "1ab09c5a-727a-48fa-c6b0-282b6af96990"
      },
      "outputs": [
        {
          "output_type": "execute_result",
          "data": {
            "text/plain": [
              "array([[5., 5., 5., 5., 5., 5., 5., 5., 5., 5.],\n",
              "       [5., 5., 5., 5., 5., 5., 5., 5., 5., 5.],\n",
              "       [5., 5., 5., 5., 5., 5., 5., 5., 5., 5.],\n",
              "       [5., 5., 5., 5., 5., 5., 5., 5., 5., 5.],\n",
              "       [5., 5., 5., 5., 5., 5., 5., 5., 5., 5.],\n",
              "       [5., 5., 5., 5., 5., 5., 5., 5., 5., 5.],\n",
              "       [5., 5., 5., 5., 5., 5., 5., 5., 5., 5.],\n",
              "       [5., 5., 5., 5., 5., 5., 5., 5., 5., 5.],\n",
              "       [5., 5., 5., 5., 5., 5., 5., 5., 5., 5.],\n",
              "       [5., 5., 5., 5., 5., 5., 5., 5., 5., 5.]])"
            ]
          },
          "metadata": {},
          "execution_count": 14
        }
      ],
      "source": [
        "np.ones((10,10))*5"
      ]
    },
    {
      "cell_type": "code",
      "execution_count": null,
      "metadata": {
        "id": "i9midPN01tIp"
      },
      "outputs": [],
      "source": []
    },
    {
      "cell_type": "code",
      "execution_count": 16,
      "metadata": {
        "colab": {
          "base_uri": "https://localhost:8080/"
        },
        "id": "ajqKpuXp1tIp",
        "outputId": "861a8512-dcfb-42d2-d77e-a7ba572eff94"
      },
      "outputs": [
        {
          "output_type": "execute_result",
          "data": {
            "text/plain": [
              "array([[0., 0., 0., 0., 0., 0., 0., 0., 0., 0.],\n",
              "       [1., 1., 1., 1., 1., 1., 1., 1., 1., 1.],\n",
              "       [2., 2., 2., 2., 2., 2., 2., 2., 2., 2.],\n",
              "       [3., 3., 3., 3., 3., 3., 3., 3., 3., 3.],\n",
              "       [4., 4., 4., 4., 4., 4., 4., 4., 4., 4.],\n",
              "       [5., 5., 5., 5., 5., 5., 5., 5., 5., 5.],\n",
              "       [6., 6., 6., 6., 6., 6., 6., 6., 6., 6.],\n",
              "       [7., 7., 7., 7., 7., 7., 7., 7., 7., 7.],\n",
              "       [8., 8., 8., 8., 8., 8., 8., 8., 8., 8.],\n",
              "       [9., 9., 9., 9., 9., 9., 9., 9., 9., 9.]])"
            ]
          },
          "metadata": {},
          "execution_count": 16
        }
      ],
      "source": [
        "np.arange(10).reshape(10,1)*np.ones((10,10))\n",
        "# 이 코드는 np.arange(10)을 (10,1) 형태로 재구성하고 np.ones((10,10))와 브로드캐스팅하여 각 행이 행 인덱스로 채워진 10x10 행렬을 만듭니다."
      ]
    },
    {
      "cell_type": "markdown",
      "metadata": {
        "id": "u5cwQl3N1tIp"
      },
      "source": [
        "### Distinction between numpy 1D arrays and numpy 2D arrays\n",
        "\n",
        "This tends to cause a lot of confusion for new numpy users.\n",
        "Follow the below examples carefully to understand the distinction."
      ]
    },
    {
      "cell_type": "code",
      "execution_count": 17,
      "metadata": {
        "colab": {
          "base_uri": "https://localhost:8080/"
        },
        "id": "KPqmfcra1tIq",
        "outputId": "2cc5e154-d770-445d-a54a-d767c20758fb"
      },
      "outputs": [
        {
          "output_type": "stream",
          "name": "stdout",
          "text": [
            "[0 1 2 3 4 5 6 7 8 9]\n",
            "(10,)\n"
          ]
        }
      ],
      "source": [
        "X = np.arange(10)\n",
        "print(X)\n",
        "print(X.shape)"
      ]
    },
    {
      "cell_type": "code",
      "execution_count": 18,
      "metadata": {
        "colab": {
          "base_uri": "https://localhost:8080/"
        },
        "id": "WtC8vuTr1tIq",
        "outputId": "57d3b8f7-822e-405f-e76c-14b7c51316c9"
      },
      "outputs": [
        {
          "output_type": "stream",
          "name": "stdout",
          "text": [
            "[[0]\n",
            " [1]\n",
            " [2]\n",
            " [3]\n",
            " [4]\n",
            " [5]\n",
            " [6]\n",
            " [7]\n",
            " [8]\n",
            " [9]]\n",
            "(10, 1)\n"
          ]
        }
      ],
      "source": [
        "Y=np.arange(10).reshape(-1,1)\n",
        "print(Y)\n",
        "print(Y.shape)"
      ]
    },
    {
      "cell_type": "code",
      "execution_count": 19,
      "metadata": {
        "colab": {
          "base_uri": "https://localhost:8080/"
        },
        "id": "T2ys0Fcz1tIq",
        "outputId": "897054e9-2c65-49f6-c877-e129b4ccba05"
      },
      "outputs": [
        {
          "output_type": "stream",
          "name": "stdout",
          "text": [
            "[[0 1 2 3 4 5 6 7 8 9]]\n",
            "(1, 10)\n"
          ]
        }
      ],
      "source": [
        "Z=np.arange(10).reshape(1,-1)\n",
        "print(Z)\n",
        "print(Z.shape)"
      ]
    },
    {
      "cell_type": "code",
      "execution_count": 20,
      "metadata": {
        "colab": {
          "base_uri": "https://localhost:8080/"
        },
        "id": "EqbsNKeA1tIq",
        "outputId": "d322cf8a-eb6c-4622-b61c-40716292b32f"
      },
      "outputs": [
        {
          "output_type": "execute_result",
          "data": {
            "text/plain": [
              "array([0, 1, 2, 3, 4, 5, 6, 7, 8, 9])"
            ]
          },
          "metadata": {},
          "execution_count": 20
        }
      ],
      "source": [
        "Z.squeeze()"
      ]
    },
    {
      "cell_type": "code",
      "execution_count": 21,
      "metadata": {
        "id": "X8mgB3cT1tIs"
      },
      "outputs": [],
      "source": [
        "Mat = np.random.randn(10,10)"
      ]
    },
    {
      "cell_type": "code",
      "execution_count": 22,
      "metadata": {
        "colab": {
          "base_uri": "https://localhost:8080/"
        },
        "id": "Hu4efmno1tIs",
        "outputId": "dac0648b-36de-4a3b-887d-5d4f790f37c5"
      },
      "outputs": [
        {
          "output_type": "execute_result",
          "data": {
            "text/plain": [
              "array([ 11.26536639, -19.80339536,  -3.03212003,  -9.40391336,\n",
              "        13.46251879,  18.79566121,  -5.69711801, -20.24576632,\n",
              "        -2.62054673,  -1.18548021])"
            ]
          },
          "metadata": {},
          "execution_count": 22
        }
      ],
      "source": [
        "Mat@X"
      ]
    },
    {
      "cell_type": "code",
      "execution_count": 23,
      "metadata": {
        "colab": {
          "base_uri": "https://localhost:8080/"
        },
        "id": "_DC3i-oC1tIs",
        "outputId": "81358dc7-6c6a-47c8-d016-4f56e3767526"
      },
      "outputs": [
        {
          "output_type": "execute_result",
          "data": {
            "text/plain": [
              "array([0, 1, 2, 3, 4, 5, 6, 7, 8, 9])"
            ]
          },
          "metadata": {},
          "execution_count": 23
        }
      ],
      "source": [
        "arr = np.arange(10)\n",
        "arr"
      ]
    },
    {
      "cell_type": "code",
      "execution_count": 24,
      "metadata": {
        "colab": {
          "base_uri": "https://localhost:8080/"
        },
        "id": "jLcdgJoZ1tIs",
        "outputId": "4c0c762c-46a2-4294-dc6f-e269a7dfaa59"
      },
      "outputs": [
        {
          "output_type": "execute_result",
          "data": {
            "text/plain": [
              "array([[1., 1., 1., 1., 1., 1., 1., 1., 1., 1.],\n",
              "       [1., 1., 1., 1., 1., 1., 1., 1., 1., 1.],\n",
              "       [1., 1., 1., 1., 1., 1., 1., 1., 1., 1.],\n",
              "       [1., 1., 1., 1., 1., 1., 1., 1., 1., 1.],\n",
              "       [1., 1., 1., 1., 1., 1., 1., 1., 1., 1.],\n",
              "       [1., 1., 1., 1., 1., 1., 1., 1., 1., 1.],\n",
              "       [1., 1., 1., 1., 1., 1., 1., 1., 1., 1.],\n",
              "       [1., 1., 1., 1., 1., 1., 1., 1., 1., 1.],\n",
              "       [1., 1., 1., 1., 1., 1., 1., 1., 1., 1.],\n",
              "       [1., 1., 1., 1., 1., 1., 1., 1., 1., 1.]])"
            ]
          },
          "metadata": {},
          "execution_count": 24
        }
      ],
      "source": [
        "ones_matrix = np.ones((10,10))\n",
        "ones_matrix"
      ]
    },
    {
      "cell_type": "code",
      "execution_count": 25,
      "metadata": {
        "colab": {
          "base_uri": "https://localhost:8080/"
        },
        "id": "dP4oOWRe1tIt",
        "outputId": "18d362bf-9c06-48c8-e990-38d4bb959862"
      },
      "outputs": [
        {
          "output_type": "execute_result",
          "data": {
            "text/plain": [
              "array([[0., 1., 2., 3., 4., 5., 6., 7., 8., 9.],\n",
              "       [0., 1., 2., 3., 4., 5., 6., 7., 8., 9.],\n",
              "       [0., 1., 2., 3., 4., 5., 6., 7., 8., 9.],\n",
              "       [0., 1., 2., 3., 4., 5., 6., 7., 8., 9.],\n",
              "       [0., 1., 2., 3., 4., 5., 6., 7., 8., 9.],\n",
              "       [0., 1., 2., 3., 4., 5., 6., 7., 8., 9.],\n",
              "       [0., 1., 2., 3., 4., 5., 6., 7., 8., 9.],\n",
              "       [0., 1., 2., 3., 4., 5., 6., 7., 8., 9.],\n",
              "       [0., 1., 2., 3., 4., 5., 6., 7., 8., 9.],\n",
              "       [0., 1., 2., 3., 4., 5., 6., 7., 8., 9.]])"
            ]
          },
          "metadata": {},
          "execution_count": 25
        }
      ],
      "source": [
        "arr*ones_matrix"
      ]
    },
    {
      "cell_type": "code",
      "execution_count": 26,
      "metadata": {
        "colab": {
          "base_uri": "https://localhost:8080/"
        },
        "id": "iPjLN7WG1tIt",
        "outputId": "372affee-aa1f-4205-d667-97d5c0ea0e5d"
      },
      "outputs": [
        {
          "output_type": "execute_result",
          "data": {
            "text/plain": [
              "array([[0],\n",
              "       [1],\n",
              "       [2],\n",
              "       [3],\n",
              "       [4],\n",
              "       [5],\n",
              "       [6],\n",
              "       [7],\n",
              "       [8],\n",
              "       [9]])"
            ]
          },
          "metadata": {},
          "execution_count": 26
        }
      ],
      "source": [
        "arr2 = np.arange(10).reshape(-1,1)\n",
        "arr2"
      ]
    },
    {
      "cell_type": "code",
      "execution_count": 27,
      "metadata": {
        "colab": {
          "base_uri": "https://localhost:8080/"
        },
        "id": "sJTvb9kM1tIu",
        "outputId": "3adea345-876d-4843-8ad0-d47388640d67"
      },
      "outputs": [
        {
          "output_type": "execute_result",
          "data": {
            "text/plain": [
              "array([[0., 0., 0., 0., 0., 0., 0., 0., 0., 0.],\n",
              "       [1., 1., 1., 1., 1., 1., 1., 1., 1., 1.],\n",
              "       [2., 2., 2., 2., 2., 2., 2., 2., 2., 2.],\n",
              "       [3., 3., 3., 3., 3., 3., 3., 3., 3., 3.],\n",
              "       [4., 4., 4., 4., 4., 4., 4., 4., 4., 4.],\n",
              "       [5., 5., 5., 5., 5., 5., 5., 5., 5., 5.],\n",
              "       [6., 6., 6., 6., 6., 6., 6., 6., 6., 6.],\n",
              "       [7., 7., 7., 7., 7., 7., 7., 7., 7., 7.],\n",
              "       [8., 8., 8., 8., 8., 8., 8., 8., 8., 8.],\n",
              "       [9., 9., 9., 9., 9., 9., 9., 9., 9., 9.]])"
            ]
          },
          "metadata": {},
          "execution_count": 27
        }
      ],
      "source": [
        "arr2*ones_matrix"
      ]
    },
    {
      "cell_type": "markdown",
      "metadata": {
        "id": "a8I4oVv71tI9"
      },
      "source": [
        "## Array Broadcasting\n",
        "\n",
        "Normally you only do arithmetic operations between arrays of the same dimension"
      ]
    },
    {
      "cell_type": "code",
      "execution_count": 28,
      "metadata": {
        "colab": {
          "base_uri": "https://localhost:8080/"
        },
        "id": "tF_KdFer1tI-",
        "outputId": "d1bac411-bd56-4a4e-a587-e43778dd0f9d"
      },
      "outputs": [
        {
          "output_type": "execute_result",
          "data": {
            "text/plain": [
              "array([[[1., 1., 1., 1., 1.],\n",
              "        [1., 1., 1., 1., 1.],\n",
              "        [1., 1., 1., 1., 1.],\n",
              "        [1., 1., 1., 1., 1.],\n",
              "        [1., 1., 1., 1., 1.]],\n",
              "\n",
              "       [[1., 1., 1., 1., 1.],\n",
              "        [1., 1., 1., 1., 1.],\n",
              "        [1., 1., 1., 1., 1.],\n",
              "        [1., 1., 1., 1., 1.],\n",
              "        [1., 1., 1., 1., 1.]],\n",
              "\n",
              "       [[1., 1., 1., 1., 1.],\n",
              "        [1., 1., 1., 1., 1.],\n",
              "        [1., 1., 1., 1., 1.],\n",
              "        [1., 1., 1., 1., 1.],\n",
              "        [1., 1., 1., 1., 1.]],\n",
              "\n",
              "       [[1., 1., 1., 1., 1.],\n",
              "        [1., 1., 1., 1., 1.],\n",
              "        [1., 1., 1., 1., 1.],\n",
              "        [1., 1., 1., 1., 1.],\n",
              "        [1., 1., 1., 1., 1.]],\n",
              "\n",
              "       [[1., 1., 1., 1., 1.],\n",
              "        [1., 1., 1., 1., 1.],\n",
              "        [1., 1., 1., 1., 1.],\n",
              "        [1., 1., 1., 1., 1.],\n",
              "        [1., 1., 1., 1., 1.]]])"
            ]
          },
          "metadata": {},
          "execution_count": 28
        }
      ],
      "source": [
        "np.ones((5,5,5))"
      ]
    },
    {
      "cell_type": "code",
      "execution_count": 29,
      "metadata": {
        "colab": {
          "base_uri": "https://localhost:8080/"
        },
        "id": "FkPSdeU_1tJA",
        "outputId": "d9faf503-dd63-4e36-d36e-44274eafda52"
      },
      "outputs": [
        {
          "output_type": "execute_result",
          "data": {
            "text/plain": [
              "array([[[  1.,   2.,   3.,   4.,   5.],\n",
              "        [  6.,   7.,   8.,   9.,  10.],\n",
              "        [ 11.,  12.,  13.,  14.,  15.],\n",
              "        [ 16.,  17.,  18.,  19.,  20.],\n",
              "        [ 21.,  22.,  23.,  24.,  25.]],\n",
              "\n",
              "       [[ 26.,  27.,  28.,  29.,  30.],\n",
              "        [ 31.,  32.,  33.,  34.,  35.],\n",
              "        [ 36.,  37.,  38.,  39.,  40.],\n",
              "        [ 41.,  42.,  43.,  44.,  45.],\n",
              "        [ 46.,  47.,  48.,  49.,  50.]],\n",
              "\n",
              "       [[ 51.,  52.,  53.,  54.,  55.],\n",
              "        [ 56.,  57.,  58.,  59.,  60.],\n",
              "        [ 61.,  62.,  63.,  64.,  65.],\n",
              "        [ 66.,  67.,  68.,  69.,  70.],\n",
              "        [ 71.,  72.,  73.,  74.,  75.]],\n",
              "\n",
              "       [[ 76.,  77.,  78.,  79.,  80.],\n",
              "        [ 81.,  82.,  83.,  84.,  85.],\n",
              "        [ 86.,  87.,  88.,  89.,  90.],\n",
              "        [ 91.,  92.,  93.,  94.,  95.],\n",
              "        [ 96.,  97.,  98.,  99., 100.]],\n",
              "\n",
              "       [[101., 102., 103., 104., 105.],\n",
              "        [106., 107., 108., 109., 110.],\n",
              "        [111., 112., 113., 114., 115.],\n",
              "        [116., 117., 118., 119., 120.],\n",
              "        [121., 122., 123., 124., 125.]]])"
            ]
          },
          "metadata": {},
          "execution_count": 29
        }
      ],
      "source": [
        "np.ones((5,5,5)) + np.arange(5*5*5).reshape(5,5,5)"
      ]
    },
    {
      "cell_type": "code",
      "execution_count": 30,
      "metadata": {
        "colab": {
          "base_uri": "https://localhost:8080/"
        },
        "id": "PaahowST1tJB",
        "outputId": "8738b397-fee0-491e-e963-2bca0a387850"
      },
      "outputs": [
        {
          "output_type": "execute_result",
          "data": {
            "text/plain": [
              "array([[[1., 1., 1., 1., 1.],\n",
              "        [1., 1., 1., 1., 1.],\n",
              "        [1., 1., 1., 1., 1.],\n",
              "        [1., 1., 1., 1., 1.],\n",
              "        [1., 1., 1., 1., 1.]],\n",
              "\n",
              "       [[2., 2., 2., 2., 2.],\n",
              "        [2., 2., 2., 2., 2.],\n",
              "        [2., 2., 2., 2., 2.],\n",
              "        [2., 2., 2., 2., 2.],\n",
              "        [2., 2., 2., 2., 2.]],\n",
              "\n",
              "       [[3., 3., 3., 3., 3.],\n",
              "        [3., 3., 3., 3., 3.],\n",
              "        [3., 3., 3., 3., 3.],\n",
              "        [3., 3., 3., 3., 3.],\n",
              "        [3., 3., 3., 3., 3.]],\n",
              "\n",
              "       [[4., 4., 4., 4., 4.],\n",
              "        [4., 4., 4., 4., 4.],\n",
              "        [4., 4., 4., 4., 4.],\n",
              "        [4., 4., 4., 4., 4.],\n",
              "        [4., 4., 4., 4., 4.]],\n",
              "\n",
              "       [[5., 5., 5., 5., 5.],\n",
              "        [5., 5., 5., 5., 5.],\n",
              "        [5., 5., 5., 5., 5.],\n",
              "        [5., 5., 5., 5., 5.],\n",
              "        [5., 5., 5., 5., 5.]]])"
            ]
          },
          "metadata": {},
          "execution_count": 30
        }
      ],
      "source": [
        "np.ones((5,5,5)) + np.arange(5).reshape(5,1,1)"
      ]
    },
    {
      "cell_type": "code",
      "execution_count": 31,
      "metadata": {
        "colab": {
          "base_uri": "https://localhost:8080/"
        },
        "id": "E9WVtZ_u1tJB",
        "outputId": "c3d6d5f8-6629-4e50-a69d-a0ca269aa726"
      },
      "outputs": [
        {
          "output_type": "execute_result",
          "data": {
            "text/plain": [
              "array([[ 0,  1,  2,  3,  4,  5,  6,  7,  8,  9],\n",
              "       [ 1,  2,  3,  4,  5,  6,  7,  8,  9, 10],\n",
              "       [ 2,  3,  4,  5,  6,  7,  8,  9, 10, 11],\n",
              "       [ 3,  4,  5,  6,  7,  8,  9, 10, 11, 12],\n",
              "       [ 4,  5,  6,  7,  8,  9, 10, 11, 12, 13],\n",
              "       [ 5,  6,  7,  8,  9, 10, 11, 12, 13, 14],\n",
              "       [ 6,  7,  8,  9, 10, 11, 12, 13, 14, 15],\n",
              "       [ 7,  8,  9, 10, 11, 12, 13, 14, 15, 16],\n",
              "       [ 8,  9, 10, 11, 12, 13, 14, 15, 16, 17],\n",
              "       [ 9, 10, 11, 12, 13, 14, 15, 16, 17, 18]])"
            ]
          },
          "metadata": {},
          "execution_count": 31
        }
      ],
      "source": [
        "np.arange(10) + np.arange(10).reshape(-1,1)"
      ]
    },
    {
      "cell_type": "code",
      "execution_count": 32,
      "metadata": {
        "colab": {
          "base_uri": "https://localhost:8080/"
        },
        "id": "Ztc_-MZo1tJC",
        "outputId": "f41e1713-1d7a-4725-bc32-d04ea4d6ceee"
      },
      "outputs": [
        {
          "output_type": "execute_result",
          "data": {
            "text/plain": [
              "array([[[2., 2., 2., 2., 2.],\n",
              "        [2., 2., 2., 2., 2.],\n",
              "        [2., 2., 2., 2., 2.],\n",
              "        [2., 2., 2., 2., 2.],\n",
              "        [2., 2., 2., 2., 2.]],\n",
              "\n",
              "       [[2., 2., 2., 2., 2.],\n",
              "        [2., 2., 2., 2., 2.],\n",
              "        [2., 2., 2., 2., 2.],\n",
              "        [2., 2., 2., 2., 2.],\n",
              "        [2., 2., 2., 2., 2.]],\n",
              "\n",
              "       [[2., 2., 2., 2., 2.],\n",
              "        [2., 2., 2., 2., 2.],\n",
              "        [2., 2., 2., 2., 2.],\n",
              "        [2., 2., 2., 2., 2.],\n",
              "        [2., 2., 2., 2., 2.]],\n",
              "\n",
              "       [[2., 2., 2., 2., 2.],\n",
              "        [2., 2., 2., 2., 2.],\n",
              "        [2., 2., 2., 2., 2.],\n",
              "        [2., 2., 2., 2., 2.],\n",
              "        [2., 2., 2., 2., 2.]],\n",
              "\n",
              "       [[2., 2., 2., 2., 2.],\n",
              "        [2., 2., 2., 2., 2.],\n",
              "        [2., 2., 2., 2., 2.],\n",
              "        [2., 2., 2., 2., 2.],\n",
              "        [2., 2., 2., 2., 2.]]])"
            ]
          },
          "metadata": {},
          "execution_count": 32
        }
      ],
      "source": [
        "np.ones((1,5,5)) + np.ones((5,1,5))"
      ]
    },
    {
      "cell_type": "markdown",
      "metadata": {
        "id": "2nWmm3Y31tJC"
      },
      "source": [
        "![](http://scipy-lectures.org/_images/numpy_broadcasting.png)"
      ]
    },
    {
      "cell_type": "markdown",
      "metadata": {
        "id": "we3VHCd61tJD"
      },
      "source": [
        "### Exercise\n",
        "create a 2D numpy array $A$ such that $A_{ij} = i\\times j$, but without using list comprehensions. Use broadcasting instead\n"
      ]
    },
    {
      "cell_type": "code",
      "execution_count": null,
      "metadata": {
        "id": "ZEK2s-xJ1tJD"
      },
      "outputs": [],
      "source": []
    },
    {
      "cell_type": "markdown",
      "metadata": {
        "id": "moKEcslY1tJD"
      },
      "source": [
        "Use array broadcasting to create a (10,10) numpy array with values\n",
        "$$ A_{ij} = 2^i + j $$"
      ]
    },
    {
      "cell_type": "code",
      "execution_count": null,
      "metadata": {
        "id": "vPJR7_Fq1tJD"
      },
      "outputs": [],
      "source": []
    },
    {
      "cell_type": "markdown",
      "metadata": {
        "id": "WPnAKHHL1tJE"
      },
      "source": [
        "## Matrix creation\n",
        "\n",
        "There are some functions to create standard matrices"
      ]
    },
    {
      "cell_type": "code",
      "execution_count": 33,
      "metadata": {
        "colab": {
          "base_uri": "https://localhost:8080/"
        },
        "id": "mxq7umT91tJE",
        "outputId": "f0e3ceeb-58fb-44c1-fd01-819265213348"
      },
      "outputs": [
        {
          "output_type": "execute_result",
          "data": {
            "text/plain": [
              "array([[1., 0., 0., 0., 0., 0., 0., 0., 0., 0.],\n",
              "       [0., 1., 0., 0., 0., 0., 0., 0., 0., 0.],\n",
              "       [0., 0., 1., 0., 0., 0., 0., 0., 0., 0.],\n",
              "       [0., 0., 0., 1., 0., 0., 0., 0., 0., 0.],\n",
              "       [0., 0., 0., 0., 1., 0., 0., 0., 0., 0.],\n",
              "       [0., 0., 0., 0., 0., 1., 0., 0., 0., 0.],\n",
              "       [0., 0., 0., 0., 0., 0., 1., 0., 0., 0.],\n",
              "       [0., 0., 0., 0., 0., 0., 0., 1., 0., 0.],\n",
              "       [0., 0., 0., 0., 0., 0., 0., 0., 1., 0.],\n",
              "       [0., 0., 0., 0., 0., 0., 0., 0., 0., 1.]])"
            ]
          },
          "metadata": {},
          "execution_count": 33
        }
      ],
      "source": [
        "np.eye(10)"
      ]
    },
    {
      "cell_type": "code",
      "execution_count": 34,
      "metadata": {
        "colab": {
          "base_uri": "https://localhost:8080/"
        },
        "id": "j8Uq2RBs1tJF",
        "outputId": "36a779ee-1f11-4cad-cc57-2dd780a79da0"
      },
      "outputs": [
        {
          "output_type": "execute_result",
          "data": {
            "text/plain": [
              "array([[0, 0, 0, 0, 0, 0, 0, 0, 0, 0],\n",
              "       [0, 1, 0, 0, 0, 0, 0, 0, 0, 0],\n",
              "       [0, 0, 2, 0, 0, 0, 0, 0, 0, 0],\n",
              "       [0, 0, 0, 3, 0, 0, 0, 0, 0, 0],\n",
              "       [0, 0, 0, 0, 4, 0, 0, 0, 0, 0],\n",
              "       [0, 0, 0, 0, 0, 5, 0, 0, 0, 0],\n",
              "       [0, 0, 0, 0, 0, 0, 6, 0, 0, 0],\n",
              "       [0, 0, 0, 0, 0, 0, 0, 7, 0, 0],\n",
              "       [0, 0, 0, 0, 0, 0, 0, 0, 8, 0],\n",
              "       [0, 0, 0, 0, 0, 0, 0, 0, 0, 9]])"
            ]
          },
          "metadata": {},
          "execution_count": 34
        }
      ],
      "source": [
        "M = np.diag(np.arange(10))\n",
        "M"
      ]
    },
    {
      "cell_type": "code",
      "execution_count": 35,
      "metadata": {
        "colab": {
          "base_uri": "https://localhost:8080/"
        },
        "id": "_6eoJBqQ1tJG",
        "outputId": "2b431135-e39b-46c7-90bc-48f17ab2a165"
      },
      "outputs": [
        {
          "output_type": "execute_result",
          "data": {
            "text/plain": [
              "array([0, 1, 2, 3, 4, 5, 6, 7, 8, 9])"
            ]
          },
          "metadata": {},
          "execution_count": 35
        }
      ],
      "source": [
        "np.diag(M)"
      ]
    },
    {
      "cell_type": "code",
      "execution_count": 37,
      "metadata": {
        "colab": {
          "base_uri": "https://localhost:8080/"
        },
        "id": "rSPeT-q81tJG",
        "outputId": "5d72c566-18e7-4ce1-9719-064818e8d82f"
      },
      "outputs": [
        {
          "output_type": "execute_result",
          "data": {
            "text/plain": [
              "array([[ 0,  3,  6,  9, 12],\n",
              "       [ 1,  4,  7, 10, 13],\n",
              "       [ 2,  5,  8, 11, 14]])"
            ]
          },
          "metadata": {},
          "execution_count": 37
        }
      ],
      "source": [
        "A = np.arange(15).reshape(5,3).T\n",
        "A"
      ]
    },
    {
      "cell_type": "code",
      "execution_count": 38,
      "metadata": {
        "colab": {
          "base_uri": "https://localhost:8080/"
        },
        "id": "2OXii02R1tJH",
        "outputId": "ba1d96e1-8b75-46e2-cae5-977ddaa608ae"
      },
      "outputs": [
        {
          "output_type": "execute_result",
          "data": {
            "text/plain": [
              "array([[0, 0, 0],\n",
              "       [0, 1, 2],\n",
              "       [0, 2, 4]])"
            ]
          },
          "metadata": {},
          "execution_count": 38
        }
      ],
      "source": [
        "x = np.arange(3).reshape(-1,1)\n",
        "y = np.arange(3).reshape(1,-1)\n",
        "np.dot(x,y)"
      ]
    },
    {
      "cell_type": "code",
      "execution_count": 39,
      "metadata": {
        "colab": {
          "base_uri": "https://localhost:8080/"
        },
        "id": "Nm8C2osi1tJH",
        "outputId": "b82335f2-9e9f-4fb2-a5f7-c642a4dd2749"
      },
      "outputs": [
        {
          "output_type": "execute_result",
          "data": {
            "text/plain": [
              "array([[0, 0, 0],\n",
              "       [0, 1, 2],\n",
              "       [0, 2, 4]])"
            ]
          },
          "metadata": {},
          "execution_count": 39
        }
      ],
      "source": [
        "x @ y"
      ]
    },
    {
      "cell_type": "markdown",
      "metadata": {
        "id": "87J2XMtH1tJI"
      },
      "source": [
        "### Exercise\n",
        "\n",
        "Create this matrix\n",
        "```\n",
        "array([[5., 1., 1., 1., 1., 1., 1., 1., 1., 1., 1.],\n",
        "       [1., 4., 1., 1., 1., 1., 1., 1., 1., 1., 1.],\n",
        "       [1., 1., 3., 1., 1., 1., 1., 1., 1., 1., 1.],\n",
        "       [1., 1., 1., 2., 1., 1., 1., 1., 1., 1., 1.],\n",
        "       [1., 1., 1., 1., 1., 1., 1., 1., 1., 1., 1.],\n",
        "       [1., 1., 1., 1., 1., 0., 1., 1., 1., 1., 1.],\n",
        "       [1., 1., 1., 1., 1., 1., 1., 1., 1., 1., 1.],\n",
        "       [1., 1., 1., 1., 1., 1., 1., 2., 1., 1., 1.],\n",
        "       [1., 1., 1., 1., 1., 1., 1., 1., 3., 1., 1.],\n",
        "       [1., 1., 1., 1., 1., 1., 1., 1., 1., 4., 1.],\n",
        "       [1., 1., 1., 1., 1., 1., 1., 1., 1., 1., 5.]])```"
      ]
    },
    {
      "cell_type": "code",
      "execution_count": null,
      "metadata": {
        "id": "tLBMhO8J1tJJ"
      },
      "outputs": [],
      "source": []
    },
    {
      "cell_type": "markdown",
      "metadata": {
        "id": "OIy5m6sv1tJJ"
      },
      "source": [
        "## Array Indexing and Slicing"
      ]
    },
    {
      "cell_type": "code",
      "execution_count": 40,
      "metadata": {
        "colab": {
          "base_uri": "https://localhost:8080/"
        },
        "id": "6K6fyttt1tJK",
        "outputId": "32caa8f3-dd66-44c9-deb7-f9a0ff4a1100"
      },
      "outputs": [
        {
          "output_type": "execute_result",
          "data": {
            "text/plain": [
              "array([0, 1, 2, 3, 4, 5, 6, 7, 8, 9])"
            ]
          },
          "metadata": {},
          "execution_count": 40
        }
      ],
      "source": [
        "arr = np.arange(10)\n",
        "arr"
      ]
    },
    {
      "cell_type": "code",
      "execution_count": 41,
      "metadata": {
        "colab": {
          "base_uri": "https://localhost:8080/"
        },
        "id": "bsuz42df1tJK",
        "outputId": "d0b39a2c-e8c9-42c9-960b-683d582ed93f"
      },
      "outputs": [
        {
          "output_type": "execute_result",
          "data": {
            "text/plain": [
              "(np.int64(5), np.int64(8))"
            ]
          },
          "metadata": {},
          "execution_count": 41
        }
      ],
      "source": [
        "arr[5], arr[-2]"
      ]
    },
    {
      "cell_type": "code",
      "execution_count": 42,
      "metadata": {
        "colab": {
          "base_uri": "https://localhost:8080/"
        },
        "id": "DrNKmGmu1tJL",
        "outputId": "981310c6-326a-4860-952a-31f9c7c2eeeb"
      },
      "outputs": [
        {
          "output_type": "execute_result",
          "data": {
            "text/plain": [
              "array([3, 4, 5, 6])"
            ]
          },
          "metadata": {},
          "execution_count": 42
        }
      ],
      "source": [
        "arr[3:7]"
      ]
    },
    {
      "cell_type": "code",
      "execution_count": 43,
      "metadata": {
        "colab": {
          "base_uri": "https://localhost:8080/"
        },
        "id": "eGp9U92t1tJL",
        "outputId": "6b64b3e6-fe6c-4878-eff5-5c7bfc910fa2"
      },
      "outputs": [
        {
          "output_type": "execute_result",
          "data": {
            "text/plain": [
              "array([0, 1, 2, 3, 4, 5, 6, 7])"
            ]
          },
          "metadata": {},
          "execution_count": 43
        }
      ],
      "source": [
        "arr[:-2]"
      ]
    },
    {
      "cell_type": "code",
      "execution_count": 44,
      "metadata": {
        "colab": {
          "base_uri": "https://localhost:8080/"
        },
        "id": "HOF9Vgk91tJM",
        "outputId": "727c2122-314e-4636-daa5-acfbe63e567c"
      },
      "outputs": [
        {
          "output_type": "execute_result",
          "data": {
            "text/plain": [
              "array([0, 2, 4])"
            ]
          },
          "metadata": {},
          "execution_count": 44
        }
      ],
      "source": [
        "arr[0:6:2]"
      ]
    },
    {
      "cell_type": "code",
      "execution_count": 45,
      "metadata": {
        "colab": {
          "base_uri": "https://localhost:8080/"
        },
        "id": "Te9F0etW1tJM",
        "outputId": "5c97bddd-a88e-4b90-ca68-19aef336c804"
      },
      "outputs": [
        {
          "output_type": "execute_result",
          "data": {
            "text/plain": [
              "array([5, 3, 1])"
            ]
          },
          "metadata": {},
          "execution_count": 45
        }
      ],
      "source": [
        "arr[5:0:-2]"
      ]
    },
    {
      "cell_type": "code",
      "execution_count": 46,
      "metadata": {
        "colab": {
          "base_uri": "https://localhost:8080/"
        },
        "id": "_zoHAYeU1tJN",
        "outputId": "56c44aea-ac1b-4979-9c9e-5dbf445739ea"
      },
      "outputs": [
        {
          "output_type": "execute_result",
          "data": {
            "text/plain": [
              "array([9, 8, 7, 6, 5, 4, 3, 2, 1, 0])"
            ]
          },
          "metadata": {},
          "execution_count": 46
        }
      ],
      "source": [
        "arr[::-1]"
      ]
    },
    {
      "cell_type": "code",
      "execution_count": 47,
      "metadata": {
        "colab": {
          "base_uri": "https://localhost:8080/"
        },
        "id": "xFvgKPvU1tJO",
        "outputId": "66c05a3a-0499-4851-f0eb-557218e56540"
      },
      "outputs": [
        {
          "output_type": "execute_result",
          "data": {
            "text/plain": [
              "np.int64(9)"
            ]
          },
          "metadata": {},
          "execution_count": 47
        }
      ],
      "source": [
        "arr[-1]"
      ]
    },
    {
      "cell_type": "markdown",
      "metadata": {
        "id": "okPblhYb1tJO"
      },
      "source": [
        "Can use all the above slicing methods for each dimension of a multidemnsional array\n",
        "![](http://scipy-lectures.org/_images/numpy_indexing.png)"
      ]
    },
    {
      "cell_type": "markdown",
      "metadata": {
        "id": "NHUEjbMg1tJO"
      },
      "source": [
        "try it yourself"
      ]
    },
    {
      "cell_type": "code",
      "execution_count": 48,
      "metadata": {
        "colab": {
          "base_uri": "https://localhost:8080/"
        },
        "id": "ErZexZJH1tJP",
        "outputId": "9d10918d-9c0d-487a-90df-4506f0faea0b"
      },
      "outputs": [
        {
          "output_type": "execute_result",
          "data": {
            "text/plain": [
              "array([[ 0,  1,  2,  3,  4,  5],\n",
              "       [10, 11, 12, 13, 14, 15],\n",
              "       [20, 21, 22, 23, 24, 25],\n",
              "       [30, 31, 32, 33, 34, 35],\n",
              "       [40, 41, 42, 43, 44, 45],\n",
              "       [50, 51, 52, 53, 54, 55]])"
            ]
          },
          "metadata": {},
          "execution_count": 48
        }
      ],
      "source": [
        "a = 10*np.arange(6).reshape(-1,1)+np.arange(6)\n",
        "a"
      ]
    },
    {
      "cell_type": "code",
      "execution_count": 49,
      "metadata": {
        "colab": {
          "base_uri": "https://localhost:8080/"
        },
        "id": "AopfFAny1tJQ",
        "outputId": "f7bf349d-9cd9-4bff-dcfb-47c870d91a9a"
      },
      "outputs": [
        {
          "output_type": "execute_result",
          "data": {
            "text/plain": [
              "array([3, 4])"
            ]
          },
          "metadata": {},
          "execution_count": 49
        }
      ],
      "source": [
        "a[0,3:5]"
      ]
    },
    {
      "cell_type": "markdown",
      "metadata": {
        "id": "R_FtUnqv1tJQ"
      },
      "source": [
        "### Exercise\n",
        "Create the following matrix\n",
        "```\n",
        "array([[1., 1., 1., 1., 1., 1., 1., 1., 1., 1.],\n",
        "       [1., 1., 1., 1., 1., 1., 1., 1., 1., 1.],\n",
        "       [1., 1., 0., 0., 0., 0., 0., 0., 1., 1.],\n",
        "       [1., 1., 0., 0., 0., 0., 0., 0., 1., 1.],\n",
        "       [1., 1., 0., 0., 0., 0., 0., 0., 1., 1.],\n",
        "       [1., 1., 0., 0., 0., 0., 0., 0., 1., 1.],\n",
        "       [1., 1., 0., 0., 0., 0., 0., 0., 1., 1.],\n",
        "       [1., 1., 0., 0., 0., 0., 0., 0., 1., 1.],\n",
        "       [1., 1., 1., 1., 1., 1., 1., 1., 1., 1.],\n",
        "       [1., 1., 1., 1., 1., 1., 1., 1., 1., 1.]])```"
      ]
    },
    {
      "cell_type": "code",
      "execution_count": null,
      "metadata": {
        "id": "2Bdp6KQN1tJR"
      },
      "outputs": [],
      "source": []
    },
    {
      "cell_type": "markdown",
      "metadata": {
        "id": "uqDeXglN1tJR"
      },
      "source": [
        "Create the following matrix\n",
        "```\n",
        "array([[-1., -1., -1., -1., -1., -1., -1., -1., -1., -1.],\n",
        "       [-1.,  0.,  1.,  2.,  3.,  4., -1., -1., -1., -1.],\n",
        "       [-1.,  5.,  6.,  7.,  8.,  9., -1., -1., -1., -1.],\n",
        "       [-1., 10., 11., 12., 13., 14., -1., -1., -1., -1.],\n",
        "       [-1., 15., 16., 17., 18., 19., -1., -1., -1., -1.],\n",
        "       [-1., 20., 21., 22., 23., 24., -1., -1., -1., -1.],\n",
        "       [-1., 25., 26., 27., 28., 29., -1., -1., -1., -1.],\n",
        "       [-1., 30., 31., 32., 33., 34., -1., -1., -1., -1.],\n",
        "       [-1., 35., 36., 37., 38., 39., -1., -1., -1., -1.],\n",
        "       [-1., -1., -1., -1., -1., -1., -1., -1., -1., -1.]])```"
      ]
    },
    {
      "cell_type": "code",
      "execution_count": null,
      "metadata": {
        "id": "pYX2mieP1tJR"
      },
      "outputs": [],
      "source": []
    },
    {
      "cell_type": "markdown",
      "metadata": {
        "id": "2Xv1r_ee1tJR"
      },
      "source": [
        "# Fancy Array Indexing\n",
        "\n",
        "We can use numpy arrays as an index for other numpy arrays"
      ]
    },
    {
      "cell_type": "code",
      "execution_count": 50,
      "metadata": {
        "colab": {
          "base_uri": "https://localhost:8080/"
        },
        "id": "TvHJBXHq1tJT",
        "outputId": "cd4f4c25-1a09-495d-e23a-9ac6757b9490"
      },
      "outputs": [
        {
          "output_type": "execute_result",
          "data": {
            "text/plain": [
              "array([0, 1, 2, 3, 4, 5, 6, 7, 8, 9])"
            ]
          },
          "metadata": {},
          "execution_count": 50
        }
      ],
      "source": [
        "arr = np.arange(10)\n",
        "arr"
      ]
    },
    {
      "cell_type": "code",
      "execution_count": 51,
      "metadata": {
        "id": "pHZPLUwJ1tJU"
      },
      "outputs": [],
      "source": [
        "idx = np.array([7,-5,2])"
      ]
    },
    {
      "cell_type": "code",
      "execution_count": 52,
      "metadata": {
        "colab": {
          "base_uri": "https://localhost:8080/"
        },
        "id": "uo8qvafF1tJU",
        "outputId": "6a7b8693-1b41-4081-93a7-a5b0d8ddbf78"
      },
      "outputs": [
        {
          "output_type": "execute_result",
          "data": {
            "text/plain": [
              "array([ 0,  1, -1,  3,  4, -1,  6, -1,  8,  9])"
            ]
          },
          "metadata": {},
          "execution_count": 52
        }
      ],
      "source": [
        "arr[idx]=-1\n",
        "arr"
      ]
    },
    {
      "cell_type": "code",
      "execution_count": 53,
      "metadata": {
        "colab": {
          "base_uri": "https://localhost:8080/"
        },
        "id": "rf2DQzhy1tJU",
        "outputId": "7a587a25-53c4-4914-e7a5-eb10345e2cbe"
      },
      "outputs": [
        {
          "output_type": "execute_result",
          "data": {
            "text/plain": [
              "array([False, False,  True, False, False,  True, False,  True, False,\n",
              "       False])"
            ]
          },
          "metadata": {},
          "execution_count": 53
        }
      ],
      "source": [
        "arr<0"
      ]
    },
    {
      "cell_type": "code",
      "execution_count": 54,
      "metadata": {
        "colab": {
          "base_uri": "https://localhost:8080/"
        },
        "id": "hHwRPO781tJU",
        "outputId": "cd937c1f-2ae2-443f-d3ec-752465d430a4"
      },
      "outputs": [
        {
          "output_type": "execute_result",
          "data": {
            "text/plain": [
              "array([0, 1, 0, 3, 4, 1, 6, 2, 8, 9])"
            ]
          },
          "metadata": {},
          "execution_count": 54
        }
      ],
      "source": [
        "arr[arr<0] = np.arange(3)\n",
        "arr"
      ]
    },
    {
      "cell_type": "markdown",
      "metadata": {
        "id": "P7psys0l1tJV"
      },
      "source": [
        "For multidimensional array, array indexing works different from slicing"
      ]
    },
    {
      "cell_type": "code",
      "execution_count": 55,
      "metadata": {
        "colab": {
          "base_uri": "https://localhost:8080/"
        },
        "id": "OpFAcyVp1tJV",
        "outputId": "7f6f092c-ebe2-4cd2-c810-b61ba8b2c990"
      },
      "outputs": [
        {
          "output_type": "execute_result",
          "data": {
            "text/plain": [
              "array([[0., 0., 0., 0., 0., 0., 0., 0., 0., 0.],\n",
              "       [0., 0., 0., 0., 0., 0., 0., 0., 0., 0.],\n",
              "       [0., 0., 0., 0., 0., 0., 0., 0., 0., 0.],\n",
              "       [0., 0., 0., 1., 1., 1., 1., 1., 1., 0.],\n",
              "       [0., 0., 0., 1., 1., 1., 1., 1., 1., 0.],\n",
              "       [0., 0., 0., 1., 1., 1., 1., 1., 1., 0.],\n",
              "       [0., 0., 0., 1., 1., 1., 1., 1., 1., 0.],\n",
              "       [0., 0., 0., 1., 1., 1., 1., 1., 1., 0.],\n",
              "       [0., 0., 0., 0., 0., 0., 0., 0., 0., 0.],\n",
              "       [0., 0., 0., 0., 0., 0., 0., 0., 0., 0.]])"
            ]
          },
          "metadata": {},
          "execution_count": 55
        }
      ],
      "source": [
        "X = np.zeros((10,10))\n",
        "X[3:8,3:9]=1\n",
        "X"
      ]
    },
    {
      "cell_type": "code",
      "execution_count": 56,
      "metadata": {
        "colab": {
          "base_uri": "https://localhost:8080/"
        },
        "id": "d1q-XXmB1tJV",
        "outputId": "1b28a55f-93ce-4247-edd5-45994b590bd9"
      },
      "outputs": [
        {
          "output_type": "execute_result",
          "data": {
            "text/plain": [
              "array([[0., 0., 0., 0., 0., 0., 0., 0., 0., 0.],\n",
              "       [0., 0., 0., 0., 0., 0., 0., 0., 0., 0.],\n",
              "       [0., 0., 0., 0., 0., 0., 0., 0., 0., 0.],\n",
              "       [0., 0., 0., 1., 0., 0., 0., 0., 0., 0.],\n",
              "       [0., 0., 0., 0., 1., 0., 0., 0., 0., 0.],\n",
              "       [0., 0., 0., 0., 0., 1., 0., 0., 0., 0.],\n",
              "       [0., 0., 0., 0., 0., 0., 1., 0., 0., 0.],\n",
              "       [0., 0., 0., 0., 0., 0., 0., 1., 0., 0.],\n",
              "       [0., 0., 0., 0., 0., 0., 0., 0., 1., 0.],\n",
              "       [0., 0., 0., 0., 0., 0., 0., 0., 0., 0.]])"
            ]
          },
          "metadata": {},
          "execution_count": 56
        }
      ],
      "source": [
        "X = np.zeros((10,10))\n",
        "X[np.arange(3,9),np.arange(3,9)]=1\n",
        "X"
      ]
    },
    {
      "cell_type": "markdown",
      "metadata": {
        "id": "4bCd5Ght1tJV"
      },
      "source": [
        "![](http://scipy-lectures.org/_images/numpy_fancy_indexing.png)"
      ]
    },
    {
      "cell_type": "markdown",
      "metadata": {
        "id": "5XNefTvW1tJV"
      },
      "source": [
        "### Exercise\n",
        "Create the following matrix\n",
        "```\n",
        "array([[0., 0., 0., 0., 0., 0., 0., 0., 0., 1.],\n",
        "       [0., 0., 0., 0., 0., 0., 0., 1., 0., 0.],\n",
        "       [0., 0., 0., 0., 0., 1., 0., 0., 0., 0.],\n",
        "       [0., 0., 0., 1., 0., 0., 0., 0., 0., 0.],\n",
        "       [0., 1., 0., 0., 0., 0., 0., 0., 0., 0.],\n",
        "       [0., 1., 0., 0., 0., 0., 0., 0., 0., 0.],\n",
        "       [0., 0., 0., 1., 0., 0., 0., 0., 0., 0.],\n",
        "       [0., 0., 0., 0., 0., 1., 0., 0., 0., 0.],\n",
        "       [0., 0., 0., 0., 0., 0., 0., 1., 0., 0.],\n",
        "       [0., 0., 0., 0., 0., 0., 0., 0., 0., 1.]])```"
      ]
    },
    {
      "cell_type": "code",
      "execution_count": null,
      "metadata": {
        "id": "qRv-cIfR1tJW"
      },
      "outputs": [],
      "source": []
    },
    {
      "cell_type": "markdown",
      "metadata": {
        "id": "MZsJARS81tJW"
      },
      "source": [
        "We can use `np.where`, to get indices of the `True` values in a boolean array"
      ]
    },
    {
      "cell_type": "code",
      "execution_count": null,
      "metadata": {
        "id": "cF1Hq-hW1tJW"
      },
      "outputs": [],
      "source": [
        "#X = np.arange(10)\n",
        "Y = np.zeros((10,10))\n",
        "Y[np.where(X>0)]=2\n",
        "Y"
      ]
    },
    {
      "cell_type": "markdown",
      "metadata": {
        "id": "SPXA1HJx1tJX"
      },
      "source": [
        "## Reduction operations\n",
        "\n",
        "Many reduction functions are available\n",
        "\n",
        "- np.sum, np.prod\n",
        "- np.min, np.max\n",
        "- np.any, np.all\n",
        "\n",
        "Partial reductions\n",
        "\n",
        "- np.cumsum, np.cumprod"
      ]
    },
    {
      "cell_type": "code",
      "execution_count": 57,
      "metadata": {
        "colab": {
          "base_uri": "https://localhost:8080/"
        },
        "id": "Q9Dii7s91tJX",
        "outputId": "3f3ad156-963a-4dec-fd6f-2dd31d6d8037"
      },
      "outputs": [
        {
          "output_type": "execute_result",
          "data": {
            "text/plain": [
              "array([[ 0,  1,  2,  3,  4,  5,  6,  7,  8,  9],\n",
              "       [10, 11, 12, 13, 14, 15, 16, 17, 18, 19],\n",
              "       [20, 21, 22, 23, 24, 25, 26, 27, 28, 29],\n",
              "       [30, 31, 32, 33, 34, 35, 36, 37, 38, 39],\n",
              "       [40, 41, 42, 43, 44, 45, 46, 47, 48, 49],\n",
              "       [50, 51, 52, 53, 54, 55, 56, 57, 58, 59],\n",
              "       [60, 61, 62, 63, 64, 65, 66, 67, 68, 69],\n",
              "       [70, 71, 72, 73, 74, 75, 76, 77, 78, 79],\n",
              "       [80, 81, 82, 83, 84, 85, 86, 87, 88, 89],\n",
              "       [90, 91, 92, 93, 94, 95, 96, 97, 98, 99]])"
            ]
          },
          "metadata": {},
          "execution_count": 57
        }
      ],
      "source": [
        "X = np.arange(100).reshape(10,10)\n",
        "X"
      ]
    },
    {
      "cell_type": "code",
      "execution_count": 58,
      "metadata": {
        "colab": {
          "base_uri": "https://localhost:8080/"
        },
        "id": "3fRPH0C_1tJX",
        "outputId": "40ad6f27-5a72-4fc9-938e-09a390bf09f7"
      },
      "outputs": [
        {
          "output_type": "execute_result",
          "data": {
            "text/plain": [
              "(np.int64(4950), np.int64(0))"
            ]
          },
          "metadata": {},
          "execution_count": 58
        }
      ],
      "source": [
        "np.sum(X),np.prod(X)"
      ]
    },
    {
      "cell_type": "code",
      "execution_count": 59,
      "metadata": {
        "colab": {
          "base_uri": "https://localhost:8080/"
        },
        "id": "w_AG7erk1tJY",
        "outputId": "6d24bb35-9caf-47c2-9d40-c293804b7722"
      },
      "outputs": [
        {
          "output_type": "execute_result",
          "data": {
            "text/plain": [
              "array([                  0,        335221286400,      72684900288000,\n",
              "          2306992893004800,   29820834418636800,  227991539359584000,\n",
              "       1233909752121446400, 5227941748053024000,    5769992716765184,\n",
              "       1193853638847869952])"
            ]
          },
          "metadata": {},
          "execution_count": 59
        }
      ],
      "source": [
        "np.prod(X,axis=1)"
      ]
    },
    {
      "cell_type": "code",
      "execution_count": 60,
      "metadata": {
        "colab": {
          "base_uri": "https://localhost:8080/"
        },
        "id": "YXl7_N9L1tJY",
        "outputId": "63e2a3f7-d119-4003-9a33-368cafc96ef8"
      },
      "outputs": [
        {
          "output_type": "execute_result",
          "data": {
            "text/plain": [
              "(np.int64(0), np.int64(99))"
            ]
          },
          "metadata": {},
          "execution_count": 60
        }
      ],
      "source": [
        "np.min(X),np.max(X)"
      ]
    },
    {
      "cell_type": "code",
      "execution_count": 61,
      "metadata": {
        "colab": {
          "base_uri": "https://localhost:8080/"
        },
        "id": "kbWx4R-E1tJY",
        "outputId": "0e07fb0c-a637-43f7-891f-1c8dec14c6bb"
      },
      "outputs": [
        {
          "output_type": "execute_result",
          "data": {
            "text/plain": [
              "array([0, 1, 2, 3, 4, 5, 6, 7, 8, 9])"
            ]
          },
          "metadata": {},
          "execution_count": 61
        }
      ],
      "source": [
        "np.min(X,axis=0)"
      ]
    },
    {
      "cell_type": "code",
      "execution_count": 62,
      "metadata": {
        "colab": {
          "base_uri": "https://localhost:8080/"
        },
        "id": "hCKMo2n_1tJY",
        "outputId": "ebc34e0f-514d-400c-c223-a6accec57359"
      },
      "outputs": [
        {
          "output_type": "execute_result",
          "data": {
            "text/plain": [
              "array([[ True, False, False, False, False, False, False, False, False,\n",
              "        False],\n",
              "       [False, False, False, False, False, False, False, False, False,\n",
              "        False],\n",
              "       [False, False, False, False, False, False, False, False, False,\n",
              "        False],\n",
              "       [False, False, False, False, False, False, False, False, False,\n",
              "        False],\n",
              "       [False, False, False, False, False, False, False, False, False,\n",
              "        False],\n",
              "       [False, False, False, False, False, False, False, False, False,\n",
              "        False],\n",
              "       [False, False, False, False, False, False, False, False, False,\n",
              "        False],\n",
              "       [False, False, False, False, False, False, False, False, False,\n",
              "        False],\n",
              "       [False, False, False, False, False, False, False, False, False,\n",
              "        False],\n",
              "       [False, False, False, False, False, False, False, False, False,\n",
              "        False]])"
            ]
          },
          "metadata": {},
          "execution_count": 62
        }
      ],
      "source": [
        "Y = X<1\n",
        "Y"
      ]
    },
    {
      "cell_type": "code",
      "execution_count": 63,
      "metadata": {
        "colab": {
          "base_uri": "https://localhost:8080/"
        },
        "id": "vYPJ_8Sm1tJY",
        "outputId": "86564383-08a8-4de1-bbe7-6e0ac6f87c45"
      },
      "outputs": [
        {
          "output_type": "execute_result",
          "data": {
            "text/plain": [
              "np.True_"
            ]
          },
          "metadata": {},
          "execution_count": 63
        }
      ],
      "source": [
        "np.any(Y)"
      ]
    },
    {
      "cell_type": "code",
      "execution_count": 64,
      "metadata": {
        "colab": {
          "base_uri": "https://localhost:8080/"
        },
        "id": "DXIjnbJA1tJZ",
        "outputId": "a0e797be-1a1a-499e-d71c-72c02faffe85"
      },
      "outputs": [
        {
          "output_type": "execute_result",
          "data": {
            "text/plain": [
              "np.False_"
            ]
          },
          "metadata": {},
          "execution_count": 64
        }
      ],
      "source": [
        "np.all(Y)"
      ]
    },
    {
      "cell_type": "markdown",
      "metadata": {
        "id": "OIG0hJz41tJZ"
      },
      "source": [
        "All the above functions can be called on the array object directly"
      ]
    },
    {
      "cell_type": "code",
      "execution_count": 65,
      "metadata": {
        "colab": {
          "base_uri": "https://localhost:8080/"
        },
        "id": "zBlSfYMa1tJZ",
        "outputId": "595a3f09-f406-473a-937a-657fe0c10615"
      },
      "outputs": [
        {
          "output_type": "execute_result",
          "data": {
            "text/plain": [
              "array([90, 91, 92, 93, 94, 95, 96, 97, 98, 99])"
            ]
          },
          "metadata": {},
          "execution_count": 65
        }
      ],
      "source": [
        "X.max(axis=0)"
      ]
    },
    {
      "cell_type": "code",
      "execution_count": 66,
      "metadata": {
        "colab": {
          "base_uri": "https://localhost:8080/"
        },
        "id": "hlKm2A4i1tJZ",
        "outputId": "cce05c97-d76e-44ef-fa1e-125dce4d5d7c"
      },
      "outputs": [
        {
          "output_type": "execute_result",
          "data": {
            "text/plain": [
              "np.True_"
            ]
          },
          "metadata": {},
          "execution_count": 66
        }
      ],
      "source": [
        "(np.sqrt(X*X*X)<5000).all()"
      ]
    },
    {
      "cell_type": "code",
      "execution_count": 67,
      "metadata": {
        "colab": {
          "base_uri": "https://localhost:8080/"
        },
        "id": "3ejoDD_E1tJa",
        "outputId": "fcc09d9d-1a27-4391-af39-fb385b1b06dd"
      },
      "outputs": [
        {
          "output_type": "execute_result",
          "data": {
            "text/plain": [
              "array([[ 1.,  2.,  3.,  4.,  5.,  6.,  7.,  8.,  9., 10.],\n",
              "       [ 1.,  2.,  3.,  4.,  5.,  6.,  7.,  8.,  9., 10.],\n",
              "       [ 1.,  2.,  3.,  4.,  5.,  6.,  7.,  8.,  9., 10.],\n",
              "       [ 1.,  2.,  3.,  4.,  5.,  6.,  7.,  8.,  9., 10.],\n",
              "       [ 1.,  2.,  3.,  4.,  5.,  6.,  7.,  8.,  9., 10.],\n",
              "       [ 1.,  2.,  3.,  4.,  5.,  6.,  7.,  8.,  9., 10.],\n",
              "       [ 1.,  2.,  3.,  4.,  5.,  6.,  7.,  8.,  9., 10.],\n",
              "       [ 1.,  2.,  3.,  4.,  5.,  6.,  7.,  8.,  9., 10.],\n",
              "       [ 1.,  2.,  3.,  4.,  5.,  6.,  7.,  8.,  9., 10.],\n",
              "       [ 1.,  2.,  3.,  4.,  5.,  6.,  7.,  8.,  9., 10.]])"
            ]
          },
          "metadata": {},
          "execution_count": 67
        }
      ],
      "source": [
        "np.cumsum(np.ones((10,10)),axis=1)"
      ]
    },
    {
      "cell_type": "markdown",
      "metadata": {
        "id": "kTGqAt-w1tJa"
      },
      "source": [
        "Cumulative operations don't change the shape of the array"
      ]
    },
    {
      "cell_type": "code",
      "execution_count": 68,
      "metadata": {
        "colab": {
          "base_uri": "https://localhost:8080/"
        },
        "id": "gJCIqJzi1tJa",
        "outputId": "acd9db67-0e7e-4ef7-c01f-4bfb46d6754c"
      },
      "outputs": [
        {
          "output_type": "execute_result",
          "data": {
            "text/plain": [
              "array([[  0,   1,   2,   3,   4,   5,   6,   7,   8,   9],\n",
              "       [ 10,  12,  14,  16,  18,  20,  22,  24,  26,  28],\n",
              "       [ 30,  33,  36,  39,  42,  45,  48,  51,  54,  57],\n",
              "       [ 60,  64,  68,  72,  76,  80,  84,  88,  92,  96],\n",
              "       [100, 105, 110, 115, 120, 125, 130, 135, 140, 145],\n",
              "       [150, 156, 162, 168, 174, 180, 186, 192, 198, 204],\n",
              "       [210, 217, 224, 231, 238, 245, 252, 259, 266, 273],\n",
              "       [280, 288, 296, 304, 312, 320, 328, 336, 344, 352],\n",
              "       [360, 369, 378, 387, 396, 405, 414, 423, 432, 441],\n",
              "       [450, 460, 470, 480, 490, 500, 510, 520, 530, 540]])"
            ]
          },
          "metadata": {},
          "execution_count": 68
        }
      ],
      "source": [
        "np.cumsum(X,axis=0)"
      ]
    },
    {
      "cell_type": "markdown",
      "metadata": {
        "id": "y3m11O_P1tJb"
      },
      "source": [
        "### Exercise\n",
        "\n",
        "- Find the column with maximum column sum\n",
        "- For which rows of the matrix, the sum of the first three elements of the row is greater than the sum of the last two elements of the row"
      ]
    },
    {
      "cell_type": "code",
      "execution_count": 69,
      "metadata": {
        "colab": {
          "base_uri": "https://localhost:8080/"
        },
        "id": "T7uYToS41tJb",
        "outputId": "f549b7da-8057-4f68-b2fb-6dc604515273"
      },
      "outputs": [
        {
          "output_type": "execute_result",
          "data": {
            "text/plain": [
              "array([[0.77132064, 0.02075195, 0.63364823, 0.74880388, 0.49850701],\n",
              "       [0.22479665, 0.19806286, 0.76053071, 0.16911084, 0.08833981],\n",
              "       [0.68535982, 0.95339335, 0.00394827, 0.51219226, 0.81262096],\n",
              "       [0.61252607, 0.72175532, 0.29187607, 0.91777412, 0.71457578],\n",
              "       [0.54254437, 0.14217005, 0.37334076, 0.67413362, 0.44183317]])"
            ]
          },
          "metadata": {},
          "execution_count": 69
        }
      ],
      "source": [
        "np.random.seed(10)\n",
        "X = np.random.rand(5,5)\n",
        "X"
      ]
    },
    {
      "cell_type": "code",
      "execution_count": null,
      "metadata": {
        "id": "2uvGUTNz1tJc"
      },
      "outputs": [],
      "source": []
    },
    {
      "cell_type": "code",
      "execution_count": null,
      "metadata": {
        "id": "9LABCSoE1tJc"
      },
      "outputs": [],
      "source": []
    },
    {
      "cell_type": "markdown",
      "metadata": {
        "id": "0q9ZsdlO1tJc"
      },
      "source": [
        "### Exercise\n",
        "Compute the the moving average of the array `y` created below, with window size 5."
      ]
    },
    {
      "cell_type": "code",
      "execution_count": 70,
      "metadata": {
        "colab": {
          "base_uri": "https://localhost:8080/",
          "height": 448
        },
        "id": "kf9NXTWI1tJc",
        "outputId": "2acbec7b-26eb-48f2-9485-3a6baf7eec58"
      },
      "outputs": [
        {
          "output_type": "execute_result",
          "data": {
            "text/plain": [
              "[<matplotlib.lines.Line2D at 0x7cf6e7ff52e0>]"
            ]
          },
          "metadata": {},
          "execution_count": 70
        },
        {
          "output_type": "display_data",
          "data": {
            "text/plain": [
              "<Figure size 640x480 with 1 Axes>"
            ],
            "image/png": "[encoded data removed]"
          },
          "metadata": {}
        }
      ],
      "source": [
        "np.random.seed(10)\n",
        "y = np.cumsum(np.random.rand(100)-0.5)\n",
        "import matplotlib.pyplot as plt\n",
        "plt.plot(y)"
      ]
    },
    {
      "cell_type": "code",
      "execution_count": 71,
      "metadata": {
        "colab": {
          "base_uri": "https://localhost:8080/",
          "height": 448
        },
        "id": "87sAASSM1tJc",
        "outputId": "ebfb5839-1348-42a4-a251-0650b6c2eff8"
      },
      "outputs": [
        {
          "output_type": "execute_result",
          "data": {
            "text/plain": [
              "[<matplotlib.lines.Line2D at 0x7cf6e744e3c0>]"
            ]
          },
          "metadata": {},
          "execution_count": 71
        },
        {
          "output_type": "display_data",
          "data": {
            "text/plain": [
              "<Figure size 640x480 with 1 Axes>"
            ],
            "image/png": "[encoded data removed]"
          },
          "metadata": {}
        }
      ],
      "source": [
        "z= np.cumsum(y)\n",
        "z[5:] = z[5:] - z[:-5]\n",
        "z/=5\n",
        "plt.plot(y)\n",
        "plt.plot(z)"
      ]
    },
    {
      "cell_type": "markdown",
      "metadata": {
        "id": "CZn-ezRj1tJd"
      },
      "source": [
        "## Final Exercise\n",
        "\n",
        "Implement the [Conway's game of Life](https://en.wikipedia.org/wiki/Conway%27s_Game_of_Life) using numpy"
      ]
    },
    {
      "cell_type": "code",
      "execution_count": 72,
      "metadata": {
        "colab": {
          "base_uri": "https://localhost:8080/",
          "height": 451
        },
        "id": "2jQ1I5dA1tJd",
        "outputId": "01f61c6c-031b-4451-9ae8-d5816ac53a3a"
      },
      "outputs": [
        {
          "output_type": "execute_result",
          "data": {
            "text/plain": [
              "<matplotlib.image.AxesImage at 0x7cf6e743aab0>"
            ]
          },
          "metadata": {},
          "execution_count": 72
        },
        {
          "output_type": "display_data",
          "data": {
            "text/plain": [
              "<Figure size 640x480 with 1 Axes>"
            ],
            "image/png": "[encoded data removed]"
          },
          "metadata": {}
        }
      ],
      "source": [
        "X = (np.random.rand(100,100)>0.9).astype(int)\n",
        "import matplotlib.pyplot as plt\n",
        "plt.imshow(X)"
      ]
    },
    {
      "cell_type": "code",
      "execution_count": 73,
      "metadata": {
        "colab": {
          "base_uri": "https://localhost:8080/",
          "height": 451
        },
        "id": "WvT8wxav1tJe",
        "outputId": "faba4d05-245b-4929-bc83-c0e96c973b71"
      },
      "outputs": [
        {
          "output_type": "execute_result",
          "data": {
            "text/plain": [
              "<matplotlib.image.AxesImage at 0x7cf6e7405fd0>"
            ]
          },
          "metadata": {},
          "execution_count": 73
        },
        {
          "output_type": "display_data",
          "data": {
            "text/plain": [
              "<Figure size 640x480 with 1 Axes>"
            ],
            "image/png": "[encoded data removed]"
          },
          "metadata": {}
        }
      ],
      "source": [
        "count =\\\n",
        "X[:-2,:-2] + X[:-2,1:-1] + X[:-2,2::] +\\\n",
        "X[1:-1,:-2] +              X[1:-1,2:] +\\\n",
        "X[2:,:-2] + X[2:,1:-1] +   X[2:,2:]\n",
        "\n",
        "newX = ((count==3) & (X[1:-1,1:-1]==0)) | (((count==3)|(count==2)) & (X[1:-1,1:-1]==1))\n",
        "X[:]=0\n",
        "X[1:-1,1:-1] = newX\n",
        "plt.imshow(X)"
      ]
    },
    {
      "cell_type": "code",
      "execution_count": null,
      "metadata": {
        "id": "iETG_Idm1tJe"
      },
      "outputs": [],
      "source": []
    }
  ],
  "metadata": {
    "kernelspec": {
      "display_name": "Python (3.6-cme193_new)",
      "language": "python",
      "name": "cme193_new"
    },
    "language_info": {
      "codemirror_mode": {
        "name": "ipython",
        "version": 3
      },
      "file_extension": ".py",
      "mimetype": "text/x-python",
      "name": "python",
      "nbconvert_exporter": "python",
      "pygments_lexer": "ipython3",
      "version": "3.6.8"
    },
    "colab": {
      "provenance": [],
      "include_colab_link": true
    }
  },
  "nbformat": 4,
  "nbformat_minor": 0
}