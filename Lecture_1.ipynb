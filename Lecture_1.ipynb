{
  "nbformat": 4,
  "nbformat_minor": 0,
  "metadata": {
    "kernelspec": {
      "display_name": "Python (3.6-cme193_new)",
      "language": "python",
      "name": "cme193_new"
    },
    "language_info": {
      "codemirror_mode": {
        "name": "ipython",
        "version": 3
      },
      "file_extension": ".py",
      "mimetype": "text/x-python",
      "name": "python",
      "nbconvert_exporter": "python",
      "pygments_lexer": "ipython3",
      "version": "3.6.8"
    },
    "colab": {
      "provenance": [],
      "include_colab_link": true
    }
  },
  "cells": [
    {
      "cell_type": "markdown",
      "metadata": {
        "id": "view-in-github",
        "colab_type": "text"
      },
      "source": [
        "<a href=\"https://colab.research.google.com/github/koh-hongQ/CME193/blob/main/Lecture_1.ipynb\" target=\"_parent\"><img src=\"https://colab.research.google.com/assets/colab-badge.svg\" alt=\"Open In Colab\"/></a>"
      ]
    },
    {
      "cell_type": "markdown",
      "metadata": {
        "id": "LAd_9JAR5YpT"
      },
      "source": [
        "# CME 193 - Introduction to Scientific Python\n",
        "\n",
        "\n",
        "## Course Logistics\n",
        "\n",
        "**Instructor:** Anjan Dwaraknath (anjandn@stanford.edu)\n",
        "\n",
        "**Course website:** [cme193.stanford.edu](http://cme193.stanford.edu).\n",
        "Please check there for any materials related for the course (and let me know if something needs to be updated).\n",
        "\n",
        "**Class:** We'll intersperse lecture with breaks to work on exercises.  These breaks are good chances to try out what you learn, and ask for help if you're stuck.  You aren't required to submit solutions to the exercises, and should focus on exercises you find most interesting if there are multiple options.\n",
        "\n",
        "**Homework:** We'll have 2 homeworks, which should not be difficult or time consuming, but a chance to practice what we cover in class. Feel free to discuss the problems with other students in the class, but the final code you submit should be written by you.\n",
        "\n",
        "**Grading:** This class is offered on a credit/no-credit basis.  Really, you're going to get out of it what you put into it.  My assumption is that you are taking the course because you see it as relevant to your education, and will try to learn material that you see as most important.\n",
        "\n",
        "**Office hours:** Thursdays 4:30-6:30 (Huang basement, either in the ICME lobby or directly outside)."
      ]
    },
    {
      "cell_type": "markdown",
      "metadata": {
        "id": "wH_gb95b5YpU"
      },
      "source": [
        "# Overview of Course\n",
        "\n",
        "You can find a list of topics we plan to cover on the [course website](http://web.stanford.edu/class/cme193/syllabus.html).  \n",
        "\n",
        "Here is a tentative list of lectures:\n",
        "1. Python basics\n",
        "1. NumPy basics\n",
        "1. Linear algebra (NumPy)\n",
        "1. Numerical algorithms (NumPy)\n",
        "1. Scientific computing (SciPy)\n",
        "1. Data science (Pandas)\n",
        "1. Machine learning (scikit-learn)\n",
        "1. Deep learning (PyTorch)\n",
        "\n",
        "The goal of the course is to get you started with using Python for scientific computing.\n",
        "* We **are** going to cover common packages for linear algebra, optimization, and data science\n",
        "* We are **not** going to cover all of the Python language, or all of its applications\n",
        "    * We will cover aspects of the Python language as they are needed for our purposes\n",
        "\n",
        "This course is designed for\n",
        "* People who already know how to program (maybe not in Python)\n",
        "* People who want to use Python for research/coursework in a scientific or engineering discipline for modeling, simulations, or data science\n",
        "\n",
        "You don't need to have an expert background in programming or scientific computing to take this course.  Everyone starts somewhere, and if your interests are aligned with the goals of the course you should be ok."
      ]
    },
    {
      "cell_type": "markdown",
      "metadata": {
        "id": "1_e9lAb25YpV"
      },
      "source": [
        "# Python"
      ]
    },
    {
      "cell_type": "markdown",
      "metadata": {
        "id": "2AaOO9Yo5YpV"
      },
      "source": [
        "![xkcd_python](https://imgs.xkcd.com/comics/python.png)\n",
        "(From [xkcd](https://xkcd.com/))"
      ]
    },
    {
      "cell_type": "code",
      "metadata": {
        "id": "s7GmxAi95YpW",
        "colab": {
          "base_uri": "https://localhost:8080/"
        },
        "outputId": "218e0950-3db6-45cf-a1a6-163779115269"
      },
      "source": [
        "print(\"Hello, world!\")"
      ],
      "execution_count": 1,
      "outputs": [
        {
          "output_type": "stream",
          "name": "stdout",
          "text": [
            "Hello, world!\n"
          ]
        }
      ]
    },
    {
      "cell_type": "code",
      "metadata": {
        "id": "6gkYuTZl5YpZ",
        "colab": {
          "base_uri": "https://localhost:8080/"
        },
        "outputId": "fba476db-9e0c-4824-ef30-1a4cf9f0b5e1"
      },
      "source": [
        "import math\n",
        "print(math.pi)"
      ],
      "execution_count": 2,
      "outputs": [
        {
          "output_type": "stream",
          "name": "stdout",
          "text": [
            "3.141592653589793\n"
          ]
        }
      ]
    },
    {
      "cell_type": "markdown",
      "metadata": {
        "id": "bcfVrNIk5Ypb"
      },
      "source": [
        "# Variables\n",
        "\n",
        "One of the main differences in python compared to other languages you might be familiar with is that variables are not declared and are not strongly typed"
      ]
    },
    {
      "cell_type": "code",
      "metadata": {
        "id": "QlG1yxuY5Ypc",
        "colab": {
          "base_uri": "https://localhost:8080/"
        },
        "outputId": "4bbdd87c-d2f5-4df2-993d-35989e94bcb7"
      },
      "source": [
        "x = 1\n",
        "print(x)"
      ],
      "execution_count": 3,
      "outputs": [
        {
          "output_type": "stream",
          "name": "stdout",
          "text": [
            "1\n"
          ]
        }
      ]
    },
    {
      "cell_type": "code",
      "metadata": {
        "id": "DqOL9nqj5Ype"
      },
      "source": [
        "y = \"test\""
      ],
      "execution_count": 4,
      "outputs": []
    },
    {
      "cell_type": "code",
      "metadata": {
        "id": "c86RO06B5Ypg",
        "colab": {
          "base_uri": "https://localhost:8080/"
        },
        "outputId": "bd7cc6cb-ccc3-4e33-c735-a835424ef8d6"
      },
      "source": [
        "print(y)"
      ],
      "execution_count": 5,
      "outputs": [
        {
          "output_type": "stream",
          "name": "stdout",
          "text": [
            "test\n"
          ]
        }
      ]
    },
    {
      "cell_type": "code",
      "metadata": {
        "id": "4-IjkNKO5Ypj",
        "colab": {
          "base_uri": "https://localhost:8080/"
        },
        "outputId": "e755543d-136c-446e-a3f1-1ad78dd85dca"
      },
      "source": [
        "x = 1\n",
        "x = \"string\"\n",
        "print(x)"
      ],
      "execution_count": 6,
      "outputs": [
        {
          "output_type": "stream",
          "name": "stdout",
          "text": [
            "string\n"
          ]
        }
      ]
    },
    {
      "cell_type": "code",
      "metadata": {
        "id": "9uh0AE6b5Ypl",
        "colab": {
          "base_uri": "https://localhost:8080/"
        },
        "outputId": "a4a492dd-94bf-4eed-98c7-bc0ea26c16c3"
      },
      "source": [
        "x = 1\n",
        "print(type(x))"
      ],
      "execution_count": 7,
      "outputs": [
        {
          "output_type": "stream",
          "name": "stdout",
          "text": [
            "<class 'int'>\n"
          ]
        }
      ]
    },
    {
      "cell_type": "code",
      "metadata": {
        "id": "WOCmO7935Ypn",
        "colab": {
          "base_uri": "https://localhost:8080/"
        },
        "outputId": "f3f530e9-7599-433d-cfa1-637a0783f7f5"
      },
      "source": [
        "x = \"string\"\n",
        "print(type(x))"
      ],
      "execution_count": 8,
      "outputs": [
        {
          "output_type": "stream",
          "name": "stdout",
          "text": [
            "<class 'str'>\n"
          ]
        }
      ]
    },
    {
      "cell_type": "code",
      "metadata": {
        "id": "vssBbXbZ5Ypp",
        "colab": {
          "base_uri": "https://localhost:8080/"
        },
        "outputId": "16455fec-4bf3-46e4-9288-e48b39a357d4"
      },
      "source": [
        "x = 0.1\n",
        "print(type(x))"
      ],
      "execution_count": 9,
      "outputs": [
        {
          "output_type": "stream",
          "name": "stdout",
          "text": [
            "<class 'float'>\n"
          ]
        }
      ]
    },
    {
      "cell_type": "code",
      "metadata": {
        "id": "oIB3_EdN5Ypr",
        "colab": {
          "base_uri": "https://localhost:8080/"
        },
        "outputId": "35cedd72-fac6-437b-9593-43e1914bf9db"
      },
      "source": [
        "x = 0.1\n",
        "type(x)"
      ],
      "execution_count": 10,
      "outputs": [
        {
          "output_type": "execute_result",
          "data": {
            "text/plain": [
              "float"
            ]
          },
          "metadata": {},
          "execution_count": 10
        }
      ]
    },
    {
      "cell_type": "code",
      "metadata": {
        "id": "MoDYLTVH5Ypu",
        "colab": {
          "base_uri": "https://localhost:8080/"
        },
        "outputId": "52a65198-4736-4d53-dad1-b0c46a5ccbbe"
      },
      "source": [
        "x"
      ],
      "execution_count": 11,
      "outputs": [
        {
          "output_type": "execute_result",
          "data": {
            "text/plain": [
              "0.1"
            ]
          },
          "metadata": {},
          "execution_count": 11
        }
      ]
    },
    {
      "cell_type": "code",
      "metadata": {
        "id": "rW5ZhXqL5Ypw"
      },
      "source": [],
      "execution_count": null,
      "outputs": []
    },
    {
      "cell_type": "markdown",
      "metadata": {
        "id": "EPG5kT3T5Ypy"
      },
      "source": [
        "# Basic Arithmetic\n",
        "\n",
        "Operators for integers:\n",
        "`+ - * / % **`\n",
        "\n",
        "Operators for floats:\n",
        "`+ - * / **`\n",
        "\n",
        "Boolean expressions:\n",
        "* keywords: `True` and `False` (note capitalization)\n",
        "* `==` equals: `5 == 5` yields `True`\n",
        "* `!=` does not equal: `5 != 5` yields `False`\n",
        "* `>` greater than: `5 > 4` yields `True`\n",
        "* `>=` greater than or equal: `5 >= 5` yields `True`\n",
        "* Similarly, we have `<` and `<=`.\n",
        "\n",
        "Logical operators:\n",
        "* `and`, `or`, and `not`\n",
        "* `True and False`\n",
        "* `True or False`\n",
        "* `not True`"
      ]
    },
    {
      "cell_type": "code",
      "metadata": {
        "id": "G6UctQIz5Ypz"
      },
      "source": [],
      "execution_count": null,
      "outputs": []
    },
    {
      "cell_type": "markdown",
      "metadata": {
        "id": "pyXGZQYU5Yp1"
      },
      "source": [
        "# Strings\n",
        "\n",
        "Concatenation: `str1 + str2`\n",
        "\n",
        "Printing: `print(str1)`"
      ]
    },
    {
      "cell_type": "code",
      "metadata": {
        "id": "ovUnMo2C5Yp1",
        "colab": {
          "base_uri": "https://localhost:8080/",
          "height": 35
        },
        "outputId": "f2f66a21-9a88-44c3-d72f-c7c3c9c10c54"
      },
      "source": [
        "str1 = \"Hello, \"\n",
        "str2 = \"World!\"\n",
        "str3 = str1 + str2\n",
        "str3"
      ],
      "execution_count": 12,
      "outputs": [
        {
          "output_type": "execute_result",
          "data": {
            "text/plain": [
              "'Hello, World!'"
            ],
            "application/vnd.google.colaboratory.intrinsic+json": {
              "type": "string"
            }
          },
          "metadata": {},
          "execution_count": 12
        }
      ]
    },
    {
      "cell_type": "code",
      "metadata": {
        "id": "o-hRK_Rr5Yp3",
        "colab": {
          "base_uri": "https://localhost:8080/"
        },
        "outputId": "637de34b-bbd7-42e8-99a7-c966cb1b858f"
      },
      "source": [
        "print(str3)"
      ],
      "execution_count": 13,
      "outputs": [
        {
          "output_type": "stream",
          "name": "stdout",
          "text": [
            "Hello, World!\n"
          ]
        }
      ]
    },
    {
      "cell_type": "markdown",
      "metadata": {
        "id": "V1G0_Br-5Yp6"
      },
      "source": [
        "Formatting:"
      ]
    },
    {
      "cell_type": "code",
      "metadata": {
        "id": "PK4BxN2b5Yp6",
        "colab": {
          "base_uri": "https://localhost:8080/",
          "height": 35
        },
        "outputId": "201744b9-b6f9-4e83-cc76-5ee8a8e29317"
      },
      "source": [
        "x = 23\n",
        "y = 52\n",
        "name = \"Alice\"\n",
        "\n",
        "str1 = f\"{name}'s numbers are {x} and {y}, and their sum is {x + y}\"\n",
        "str1"
      ],
      "execution_count": 14,
      "outputs": [
        {
          "output_type": "execute_result",
          "data": {
            "text/plain": [
              "\"Alice's numbers are 23 and 52, and their sum is 75\""
            ],
            "application/vnd.google.colaboratory.intrinsic+json": {
              "type": "string"
            }
          },
          "metadata": {},
          "execution_count": 14
        }
      ]
    },
    {
      "cell_type": "code",
      "metadata": {
        "id": "secyJk-x5Yp8",
        "colab": {
          "base_uri": "https://localhost:8080/"
        },
        "outputId": "9d961990-5fd6-497b-f0d4-66f8ff8f7f15"
      },
      "source": [
        "str1 = \"a: %s\" % \"string\"\n",
        "print(str1)\n",
        "str2 = \"b: %f, %s, %d\" % (1.0, 'hello', 5)\n",
        "print(str2)\n",
        "str3 = \"c: {}\".format(3.14)\n",
        "print(str3)"
      ],
      "execution_count": 15,
      "outputs": [
        {
          "output_type": "stream",
          "name": "stdout",
          "text": [
            "a: string\n",
            "b: 1.000000, hello, 5\n",
            "c: 3.14\n"
          ]
        }
      ]
    },
    {
      "cell_type": "code",
      "metadata": {
        "id": "Eb8C9J9r5Yp_",
        "colab": {
          "base_uri": "https://localhost:8080/"
        },
        "outputId": "31e346a7-4990-499d-a29a-f78ee051da7f"
      },
      "source": [
        "# some methods\n",
        "str1 = \"Hello, World!\"\n",
        "print(str1)\n",
        "print(str1.upper())\n",
        "print(str1.lower())"
      ],
      "execution_count": 16,
      "outputs": [
        {
          "output_type": "stream",
          "name": "stdout",
          "text": [
            "Hello, World!\n",
            "HELLO, WORLD!\n",
            "hello, world!\n"
          ]
        }
      ]
    },
    {
      "cell_type": "code",
      "metadata": {
        "id": "fYGYSo5I5YqD"
      },
      "source": [
        "str1.replace?"
      ],
      "execution_count": 17,
      "outputs": []
    },
    {
      "cell_type": "code",
      "metadata": {
        "id": "VkWwdjBV5YqG",
        "colab": {
          "base_uri": "https://localhost:8080/",
          "height": 35
        },
        "outputId": "101a2b5e-9c05-43ae-a5ee-87e0d74c5d6f"
      },
      "source": [
        "str1.replace('l', 'p')"
      ],
      "execution_count": 18,
      "outputs": [
        {
          "output_type": "execute_result",
          "data": {
            "text/plain": [
              "'Heppo, Worpd!'"
            ],
            "application/vnd.google.colaboratory.intrinsic+json": {
              "type": "string"
            }
          },
          "metadata": {},
          "execution_count": 18
        }
      ]
    },
    {
      "cell_type": "markdown",
      "metadata": {
        "id": "sFvsiKg25YqI"
      },
      "source": [
        "# Control Flow\n",
        "\n",
        "If statements:"
      ]
    },
    {
      "cell_type": "code",
      "metadata": {
        "id": "l46yFRCW5YqJ",
        "colab": {
          "base_uri": "https://localhost:8080/"
        },
        "outputId": "e765f4b5-31d7-4d6b-e0ba-0e2285de5218"
      },
      "source": [
        "x = 1\n",
        "y = 1\n",
        "z = 2\n",
        "if x == y:\n",
        "    print(\"Hello\")\n",
        "elif x == z:\n",
        "    print(\"Goodbye\")\n",
        "else:\n",
        "    print(\"???\")"
      ],
      "execution_count": 19,
      "outputs": [
        {
          "output_type": "stream",
          "name": "stdout",
          "text": [
            "Hello\n"
          ]
        }
      ]
    },
    {
      "cell_type": "markdown",
      "metadata": {
        "id": "vEy_pyYc5YqM"
      },
      "source": [
        "**For loops**\n"
      ]
    },
    {
      "cell_type": "code",
      "metadata": {
        "id": "_T9Ou5285YqN",
        "colab": {
          "base_uri": "https://localhost:8080/"
        },
        "outputId": "32bbe4a6-0c14-46e8-d50c-4855cc16e4f2"
      },
      "source": [
        "print(\"loop 1\")\n",
        "for i in range(5): # default - start at 0, increment by 1\n",
        "    print(i)\n",
        "\n",
        "print(\"\\nloop 2\")\n",
        "for i in range(10, 2, -2): # inputs are start, stop, step\n",
        "    print(i)"
      ],
      "execution_count": 20,
      "outputs": [
        {
          "output_type": "stream",
          "name": "stdout",
          "text": [
            "loop 1\n",
            "0\n",
            "1\n",
            "2\n",
            "3\n",
            "4\n",
            "\n",
            "loop 2\n",
            "10\n",
            "8\n",
            "6\n",
            "4\n"
          ]
        }
      ]
    },
    {
      "cell_type": "code",
      "metadata": {
        "id": "M8HT-6g65YqP"
      },
      "source": [],
      "execution_count": null,
      "outputs": []
    },
    {
      "cell_type": "markdown",
      "metadata": {
        "id": "xqbimGvD5YqR"
      },
      "source": [
        "**while loops**"
      ]
    },
    {
      "cell_type": "code",
      "metadata": {
        "id": "Cm-WoE0r5YqR",
        "colab": {
          "base_uri": "https://localhost:8080/"
        },
        "outputId": "e9f42574-4678-4d62-ff1a-6263e88ffca1"
      },
      "source": [
        "i = 1\n",
        "while i < 100:\n",
        "    print(i**2)\n",
        "    i += i**2  # a += b is short for a = a + b"
      ],
      "execution_count": 21,
      "outputs": [
        {
          "output_type": "stream",
          "name": "stdout",
          "text": [
            "1\n",
            "4\n",
            "36\n",
            "1764\n"
          ]
        }
      ]
    },
    {
      "cell_type": "markdown",
      "metadata": {
        "id": "ILDrn1dl5YqT"
      },
      "source": [
        "**continue** - skip the rest of a loop\n",
        "\n",
        "**break** - exit from the loop"
      ]
    },
    {
      "cell_type": "code",
      "metadata": {
        "id": "CbdoB0Jx5YqU",
        "colab": {
          "base_uri": "https://localhost:8080/"
        },
        "outputId": "86dab919-ad80-4283-a70a-50bf294dad7e"
      },
      "source": [
        "for num in range(2, 10):\n",
        "    if num % 2 == 0:\n",
        "        continue # this jumps us back to the top\n",
        "    print(f\"Found {num}, an odd number\")"
      ],
      "execution_count": 23,
      "outputs": [
        {
          "output_type": "stream",
          "name": "stdout",
          "text": [
            "Found 3, an odd number\n",
            "Found 5, an odd number\n",
            "Found 7, an odd number\n",
            "Found 9, an odd number\n"
          ]
        }
      ]
    },
    {
      "cell_type": "code",
      "metadata": {
        "id": "wmn7Z2jI5YqW",
        "colab": {
          "base_uri": "https://localhost:8080/"
        },
        "outputId": "b16e658a-a831-43e9-8fde-40df2fb4eec1"
      },
      "source": [
        "n = 64\n",
        "for x in range(2, n):\n",
        "    if n % x == 0: # if n divisible by x\n",
        "        print(f'{n} equals {x} * {n // x}')\n",
        "        #break"
      ],
      "execution_count": 24,
      "outputs": [
        {
          "output_type": "stream",
          "name": "stdout",
          "text": [
            "64 equals 2 * 32\n",
            "64 equals 4 * 16\n",
            "64 equals 8 * 8\n",
            "64 equals 16 * 4\n",
            "64 equals 32 * 2\n"
          ]
        }
      ]
    },
    {
      "cell_type": "markdown",
      "metadata": {
        "id": "7BzGaGW95YqY"
      },
      "source": [
        "**pass** does nothing"
      ]
    },
    {
      "cell_type": "code",
      "metadata": {
        "id": "RAgzkTvx5YqY",
        "colab": {
          "base_uri": "https://localhost:8080/"
        },
        "outputId": "f23e80ef-97bf-4fae-abcf-bd5484edcea0"
      },
      "source": [
        "if False:\n",
        "    pass # to implement\n",
        "else:\n",
        "    print('True!')"
      ],
      "execution_count": 25,
      "outputs": [
        {
          "output_type": "stream",
          "name": "stdout",
          "text": [
            "True!\n"
          ]
        }
      ]
    },
    {
      "cell_type": "markdown",
      "metadata": {
        "id": "9MrgReI75Yqb"
      },
      "source": [
        "# Exceptions"
      ]
    },
    {
      "cell_type": "code",
      "metadata": {
        "scrolled": true,
        "id": "I53zSGpJ5Yqb",
        "colab": {
          "base_uri": "https://localhost:8080/",
          "height": 146
        },
        "outputId": "231c37be-1eb4-48b4-e929-0e472ca03c24"
      },
      "source": [
        "100 / 0"
      ],
      "execution_count": 26,
      "outputs": [
        {
          "output_type": "error",
          "ename": "ZeroDivisionError",
          "evalue": "division by zero",
          "traceback": [
            "\u001b[0;31m---------------------------------------------------------------------------\u001b[0m",
            "\u001b[0;31mZeroDivisionError\u001b[0m                         Traceback (most recent call last)",
            "\u001b[0;32m/tmp/ipython-input-3039867184.py\u001b[0m in \u001b[0;36m<cell line: 0>\u001b[0;34m()\u001b[0m\n\u001b[0;32m----> 1\u001b[0;31m \u001b[0;36m100\u001b[0m \u001b[0;34m/\u001b[0m \u001b[0;36m0\u001b[0m\u001b[0;34m\u001b[0m\u001b[0;34m\u001b[0m\u001b[0m\n\u001b[0m",
            "\u001b[0;31mZeroDivisionError\u001b[0m: division by zero"
          ]
        }
      ]
    },
    {
      "cell_type": "code",
      "metadata": {
        "id": "-vW_m3xO5Yqd",
        "colab": {
          "base_uri": "https://localhost:8080/"
        },
        "outputId": "cdb0b9dd-484b-4fe2-aeb0-31ed0b2bf984"
      },
      "source": [
        "try:\n",
        "    x = 100 / 0\n",
        "except ZeroDivisionError:\n",
        "    print(\"We divided by zero\")"
      ],
      "execution_count": 27,
      "outputs": [
        {
          "output_type": "stream",
          "name": "stdout",
          "text": [
            "We divided by zero\n"
          ]
        }
      ]
    },
    {
      "cell_type": "markdown",
      "metadata": {
        "id": "3YOIIrwD5Yqe"
      },
      "source": [
        "# Functions\n",
        "\n",
        "Functions are declared with the keyword `def`"
      ]
    },
    {
      "cell_type": "code",
      "metadata": {
        "id": "6buDxmyY5Yqf",
        "colab": {
          "base_uri": "https://localhost:8080/"
        },
        "outputId": "de41376b-0553-4c13-8a19-ebd2e4e6bdde"
      },
      "source": [
        "# def tells python you're trying to declare a function\n",
        "def triangle_area(base, height):\n",
        "    return 0.5 * base * height\n",
        "\n",
        "triangle_area(1, 2)"
      ],
      "execution_count": 28,
      "outputs": [
        {
          "output_type": "execute_result",
          "data": {
            "text/plain": [
              "1.0"
            ]
          },
          "metadata": {},
          "execution_count": 28
        }
      ]
    },
    {
      "cell_type": "code",
      "metadata": {
        "id": "5l2JunsC5Yqg",
        "colab": {
          "base_uri": "https://localhost:8080/",
          "height": 309
        },
        "outputId": "86ba5c3c-04a9-4cbd-edfa-47e27b7df947"
      },
      "source": [
        "def triangle_area(base, height):\n",
        "    if base < 0 or height < 0:\n",
        "        raise ValueError(\"Base and height must be non-negative\")\n",
        "    return 0.5 * base * height\n",
        "\n",
        "triangle_area(-1, 2)"
      ],
      "execution_count": 29,
      "outputs": [
        {
          "output_type": "error",
          "ename": "ValueError",
          "evalue": "Base and height must be non-negative",
          "traceback": [
            "\u001b[0;31m---------------------------------------------------------------------------\u001b[0m",
            "\u001b[0;31mValueError\u001b[0m                                Traceback (most recent call last)",
            "\u001b[0;32m/tmp/ipython-input-2698131731.py\u001b[0m in \u001b[0;36m<cell line: 0>\u001b[0;34m()\u001b[0m\n\u001b[1;32m      4\u001b[0m     \u001b[0;32mreturn\u001b[0m \u001b[0;36m0.5\u001b[0m \u001b[0;34m*\u001b[0m \u001b[0mbase\u001b[0m \u001b[0;34m*\u001b[0m \u001b[0mheight\u001b[0m\u001b[0;34m\u001b[0m\u001b[0;34m\u001b[0m\u001b[0m\n\u001b[1;32m      5\u001b[0m \u001b[0;34m\u001b[0m\u001b[0m\n\u001b[0;32m----> 6\u001b[0;31m \u001b[0mtriangle_area\u001b[0m\u001b[0;34m(\u001b[0m\u001b[0;34m-\u001b[0m\u001b[0;36m1\u001b[0m\u001b[0;34m,\u001b[0m \u001b[0;36m2\u001b[0m\u001b[0;34m)\u001b[0m\u001b[0;34m\u001b[0m\u001b[0;34m\u001b[0m\u001b[0m\n\u001b[0m",
            "\u001b[0;32m/tmp/ipython-input-2698131731.py\u001b[0m in \u001b[0;36mtriangle_area\u001b[0;34m(base, height)\u001b[0m\n\u001b[1;32m      1\u001b[0m \u001b[0;32mdef\u001b[0m \u001b[0mtriangle_area\u001b[0m\u001b[0;34m(\u001b[0m\u001b[0mbase\u001b[0m\u001b[0;34m,\u001b[0m \u001b[0mheight\u001b[0m\u001b[0;34m)\u001b[0m\u001b[0;34m:\u001b[0m\u001b[0;34m\u001b[0m\u001b[0;34m\u001b[0m\u001b[0m\n\u001b[1;32m      2\u001b[0m     \u001b[0;32mif\u001b[0m \u001b[0mbase\u001b[0m \u001b[0;34m<\u001b[0m \u001b[0;36m0\u001b[0m \u001b[0;32mor\u001b[0m \u001b[0mheight\u001b[0m \u001b[0;34m<\u001b[0m \u001b[0;36m0\u001b[0m\u001b[0;34m:\u001b[0m\u001b[0;34m\u001b[0m\u001b[0;34m\u001b[0m\u001b[0m\n\u001b[0;32m----> 3\u001b[0;31m         \u001b[0;32mraise\u001b[0m \u001b[0mValueError\u001b[0m\u001b[0;34m(\u001b[0m\u001b[0;34m\"Base and height must be non-negative\"\u001b[0m\u001b[0;34m)\u001b[0m\u001b[0;34m\u001b[0m\u001b[0;34m\u001b[0m\u001b[0m\n\u001b[0m\u001b[1;32m      4\u001b[0m     \u001b[0;32mreturn\u001b[0m \u001b[0;36m0.5\u001b[0m \u001b[0;34m*\u001b[0m \u001b[0mbase\u001b[0m \u001b[0;34m*\u001b[0m \u001b[0mheight\u001b[0m\u001b[0;34m\u001b[0m\u001b[0;34m\u001b[0m\u001b[0m\n\u001b[1;32m      5\u001b[0m \u001b[0;34m\u001b[0m\u001b[0m\n",
            "\u001b[0;31mValueError\u001b[0m: Base and height must be non-negative"
          ]
        }
      ]
    },
    {
      "cell_type": "code",
      "metadata": {
        "id": "vKPp3eGC5Yqi",
        "colab": {
          "base_uri": "https://localhost:8080/"
        },
        "outputId": "817380b5-f822-4975-c877-51a07830244d"
      },
      "source": [
        "# everything in python is an object, and can be passed into a function\n",
        "def f(x):\n",
        "    return x+2\n",
        "\n",
        "def twice(f, x):\n",
        "    return f(f(x))\n",
        "\n",
        "twice(f, 2) # + 4"
      ],
      "execution_count": 30,
      "outputs": [
        {
          "output_type": "execute_result",
          "data": {
            "text/plain": [
              "6"
            ]
          },
          "metadata": {},
          "execution_count": 30
        }
      ]
    },
    {
      "cell_type": "code",
      "metadata": {
        "id": "GRMGkhuK5Yqk",
        "colab": {
          "base_uri": "https://localhost:8080/"
        },
        "outputId": "2ea3a726-5510-4e85-cb38-fba9e1c20331"
      },
      "source": [
        "def n_apply(f, x, n):\n",
        "    \"\"\"applies f to x n times\"\"\"\n",
        "    for _ in range(n):  # _ is dummy variable in iteration\n",
        "        x = f(x)\n",
        "    return x\n",
        "\n",
        "n_apply(f, 1, 5) # 1 + 2*5"
      ],
      "execution_count": 31,
      "outputs": [
        {
          "output_type": "execute_result",
          "data": {
            "text/plain": [
              "11"
            ]
          },
          "metadata": {},
          "execution_count": 31
        }
      ]
    },
    {
      "cell_type": "code",
      "metadata": {
        "id": "4NymNUaj5Yqm"
      },
      "source": [
        "def g(a, x, b=0):\n",
        "    return a * x + b"
      ],
      "execution_count": 32,
      "outputs": []
    },
    {
      "cell_type": "code",
      "metadata": {
        "id": "0GtJqZpP5Yqo",
        "colab": {
          "base_uri": "https://localhost:8080/"
        },
        "outputId": "46be05a2-3f19-4b47-b6f0-df60eac48a9c"
      },
      "source": [
        "g(2, 5, 1)"
      ],
      "execution_count": 33,
      "outputs": [
        {
          "output_type": "execute_result",
          "data": {
            "text/plain": [
              "11"
            ]
          },
          "metadata": {},
          "execution_count": 33
        }
      ]
    },
    {
      "cell_type": "code",
      "metadata": {
        "id": "eTMfWH8-5Yqq",
        "colab": {
          "base_uri": "https://localhost:8080/"
        },
        "outputId": "150b232c-427c-48fe-8f5f-2a8deb722389"
      },
      "source": [
        "g(2, 5)"
      ],
      "execution_count": 34,
      "outputs": [
        {
          "output_type": "execute_result",
          "data": {
            "text/plain": [
              "10"
            ]
          },
          "metadata": {},
          "execution_count": 34
        }
      ]
    },
    {
      "cell_type": "code",
      "metadata": {
        "id": "GGQ_K4Yr5Yqr"
      },
      "source": [],
      "execution_count": null,
      "outputs": []
    },
    {
      "cell_type": "markdown",
      "metadata": {
        "id": "yfRnrok15Yqt"
      },
      "source": [
        "# Exercise 1\n",
        "\n",
        "(10 minutes)\n",
        "\n",
        "1. Output the string \"Hello, World!\" using Python\n",
        "2. Import a Python Module\n",
        "    * Try importing the `math` module and printing $\\tan(1)$\n",
        "3. Numeric variables\n",
        "    * assign a variable $x$ to have value 1\n",
        "    * increment $x$ (add 1 to $x$)\n",
        "    * print the product of $x$ and 2\n",
        "4. Print every integer between 1 and 100, except:\n",
        "    * if it is a multiple of 3, print \"Fizz\"\n",
        "    * if it is a multiple of 5, print \"Buzz\"\n",
        "    * if it is a multiple of 3 and 5, print \"FizzBuzz\"\n",
        "5. Print every power of 2 less than 10,000\n",
        "6. Write a function that takes two inputs, $a$ and $b$ and returns the value of $a+2b$\n",
        "9. Write a function takes a number $n$ as input, and prints all [Fibonacci numbers](https://en.wikipedia.org/wiki/Fibonacci_number) less than $n$"
      ]
    },
    {
      "cell_type": "markdown",
      "metadata": {
        "id": "rxHtqyZX5Yqt"
      },
      "source": [
        "# Lists\n",
        "\n",
        "A list in Python is an ordered collection of objects"
      ]
    },
    {
      "cell_type": "code",
      "metadata": {
        "id": "ckKXoD8w5Yqu",
        "colab": {
          "base_uri": "https://localhost:8080/"
        },
        "outputId": "a0e8b3f2-ac63-4b4d-952a-56a4820d8e77"
      },
      "source": [
        "a = ['x', 1, 3.5]\n",
        "print(a)"
      ],
      "execution_count": 35,
      "outputs": [
        {
          "output_type": "stream",
          "name": "stdout",
          "text": [
            "['x', 1, 3.5]\n"
          ]
        }
      ]
    },
    {
      "cell_type": "markdown",
      "metadata": {
        "id": "npLsbIsa5Yqw"
      },
      "source": [
        "You can iterate over lists in a very natural way"
      ]
    },
    {
      "cell_type": "code",
      "metadata": {
        "id": "9tbpJloU5Yqy",
        "colab": {
          "base_uri": "https://localhost:8080/"
        },
        "outputId": "2ecc0aa1-2193-4cf9-97e6-217616765c7b"
      },
      "source": [
        "for elt in [\"step1\", \"step2\"]:\n",
        "    print(elt)"
      ],
      "execution_count": 36,
      "outputs": [
        {
          "output_type": "stream",
          "name": "stdout",
          "text": [
            "step1\n",
            "step2\n"
          ]
        }
      ]
    },
    {
      "cell_type": "markdown",
      "metadata": {
        "id": "v_rkeqtq5Yq0"
      },
      "source": [
        "Python indexing starts at 0."
      ]
    },
    {
      "cell_type": "code",
      "metadata": {
        "id": "XwccGa5j5Yq0"
      },
      "source": [
        "a.remove?"
      ],
      "execution_count": 37,
      "outputs": []
    },
    {
      "cell_type": "markdown",
      "metadata": {
        "id": "W21RnJK85Yq2"
      },
      "source": [
        "You can append to lists using `.append()`, and do other operations, such as `push()`, `pop()`, `insert()`, etc."
      ]
    },
    {
      "cell_type": "code",
      "metadata": {
        "id": "9Cbss2QY5Yq2"
      },
      "source": [
        "a = []\n",
        "for i in range(10):\n",
        "    a.append(i**2)"
      ],
      "execution_count": 38,
      "outputs": []
    },
    {
      "cell_type": "code",
      "metadata": {
        "id": "1QNBvyab5Yq4",
        "colab": {
          "base_uri": "https://localhost:8080/"
        },
        "outputId": "bce45269-15d5-45e9-ce32-04aad1bc8f5e"
      },
      "source": [
        "while len(a) > 0:\n",
        "    elt = a.pop()\n",
        "    print(elt)"
      ],
      "execution_count": 39,
      "outputs": [
        {
          "output_type": "stream",
          "name": "stdout",
          "text": [
            "81\n",
            "64\n",
            "49\n",
            "36\n",
            "25\n",
            "16\n",
            "9\n",
            "4\n",
            "1\n",
            "0\n"
          ]
        }
      ]
    },
    {
      "cell_type": "code",
      "metadata": {
        "id": "mxwkWpw55Yq7",
        "colab": {
          "base_uri": "https://localhost:8080/"
        },
        "outputId": "4c0de956-42f7-41df-b02b-9f87c77f4c7f"
      },
      "source": [
        "a"
      ],
      "execution_count": 40,
      "outputs": [
        {
          "output_type": "execute_result",
          "data": {
            "text/plain": [
              "[]"
            ]
          },
          "metadata": {},
          "execution_count": 40
        }
      ]
    },
    {
      "cell_type": "markdown",
      "metadata": {
        "id": "AzJjl_X75Yq9"
      },
      "source": [
        "Python terminology:\n",
        "* a list is a \"class\"\n",
        "* the variable `a` is an object, or instance of the class\n",
        "* `append()` is a method"
      ]
    },
    {
      "cell_type": "markdown",
      "metadata": {
        "id": "F9va8fl-5Yq9"
      },
      "source": [
        "## List Comprehensions\n",
        "\n",
        "Python's list comprehensions let you create lists in a way that is reminiscent of set notation\n",
        "\n",
        "$$ S = \\{ \\sqrt{x} ~\\mid~ 0 \\le x \\le 20, x\\mod 3 = 0\\}$$"
      ]
    },
    {
      "cell_type": "code",
      "metadata": {
        "id": "uJ9mPFEu5Yq9",
        "colab": {
          "base_uri": "https://localhost:8080/"
        },
        "outputId": "7a5c1ee2-5f63-42ab-f934-c68da0b230b5"
      },
      "source": [
        "S = [math.sqrt(x) for x in range(20) if x % 3 == 0]\n",
        "S"
      ],
      "execution_count": 41,
      "outputs": [
        {
          "output_type": "execute_result",
          "data": {
            "text/plain": [
              "[0.0,\n",
              " 1.7320508075688772,\n",
              " 2.449489742783178,\n",
              " 3.0,\n",
              " 3.4641016151377544,\n",
              " 3.872983346207417,\n",
              " 4.242640687119285]"
            ]
          },
          "metadata": {},
          "execution_count": 41
        }
      ]
    },
    {
      "cell_type": "code",
      "metadata": {
        "id": "_800MZ7w5Yq_",
        "colab": {
          "base_uri": "https://localhost:8080/"
        },
        "outputId": "487115bc-035b-422b-a4df-aa494f413584"
      },
      "source": [
        "S = []\n",
        "for i in range(2):\n",
        "    for j in range(2):\n",
        "        for k in range(2):\n",
        "            S += [(i,j,k)]\n",
        "S"
      ],
      "execution_count": 42,
      "outputs": [
        {
          "output_type": "execute_result",
          "data": {
            "text/plain": [
              "[(0, 0, 0),\n",
              " (0, 0, 1),\n",
              " (0, 1, 0),\n",
              " (0, 1, 1),\n",
              " (1, 0, 0),\n",
              " (1, 0, 1),\n",
              " (1, 1, 0),\n",
              " (1, 1, 1)]"
            ]
          },
          "metadata": {},
          "execution_count": 42
        }
      ]
    },
    {
      "cell_type": "code",
      "metadata": {
        "id": "Z6sA1BFd5YrB",
        "colab": {
          "base_uri": "https://localhost:8080/"
        },
        "outputId": "19d9fbad-76eb-414e-ffd5-5775b42346d9"
      },
      "source": [
        "# you aren't restricted to a single for loop\n",
        "S = [(i,j,k) for i in range(2) for j in range(2) for k in range(2)]\n",
        "S"
      ],
      "execution_count": 43,
      "outputs": [
        {
          "output_type": "execute_result",
          "data": {
            "text/plain": [
              "[(0, 0, 0),\n",
              " (0, 0, 1),\n",
              " (0, 1, 0),\n",
              " (0, 1, 1),\n",
              " (1, 0, 0),\n",
              " (1, 0, 1),\n",
              " (1, 1, 0),\n",
              " (1, 1, 1)]"
            ]
          },
          "metadata": {},
          "execution_count": 43
        }
      ]
    },
    {
      "cell_type": "markdown",
      "metadata": {
        "id": "qmKZIWXd5YrD"
      },
      "source": [
        "Syntax is generally\n",
        "```python3\n",
        "S = [<elt> <for statement> <conditional>]\n",
        "```"
      ]
    },
    {
      "cell_type": "markdown",
      "metadata": {
        "id": "128mvrgn5YrD"
      },
      "source": [
        "# Other Collections\n",
        "\n",
        "We've seen the `list` class, which is ordered, indexed, and mutable.  There are other Python collections that you may find useful:\n",
        "* `tuple` which is ordered, indexed, and immutable\n",
        "* `set` which is unordered, unindexed, mutable, and doesn't allow for duplicate elements\n",
        "* `dict` (dictionary), which is unordered, indexed, and mutable, with no duplicate keys."
      ]
    },
    {
      "cell_type": "code",
      "metadata": {
        "id": "h18VdIzc5YrE",
        "colab": {
          "base_uri": "https://localhost:8080/",
          "height": 164
        },
        "outputId": "b919ab00-7ef7-4cf4-b2f2-46a9b8530a36"
      },
      "source": [
        "a_tuple = (1, 2, 4)\n",
        "a_tuple[0] = 3"
      ],
      "execution_count": 45,
      "outputs": [
        {
          "output_type": "error",
          "ename": "TypeError",
          "evalue": "'tuple' object does not support item assignment",
          "traceback": [
            "\u001b[0;31m---------------------------------------------------------------------------\u001b[0m",
            "\u001b[0;31mTypeError\u001b[0m                                 Traceback (most recent call last)",
            "\u001b[0;32m/tmp/ipython-input-1580541770.py\u001b[0m in \u001b[0;36m<cell line: 0>\u001b[0;34m()\u001b[0m\n\u001b[1;32m      1\u001b[0m \u001b[0ma_tuple\u001b[0m \u001b[0;34m=\u001b[0m \u001b[0;34m(\u001b[0m\u001b[0;36m1\u001b[0m\u001b[0;34m,\u001b[0m \u001b[0;36m2\u001b[0m\u001b[0;34m,\u001b[0m \u001b[0;36m4\u001b[0m\u001b[0;34m)\u001b[0m\u001b[0;34m\u001b[0m\u001b[0;34m\u001b[0m\u001b[0m\n\u001b[0;32m----> 2\u001b[0;31m \u001b[0ma_tuple\u001b[0m\u001b[0;34m[\u001b[0m\u001b[0;36m0\u001b[0m\u001b[0;34m]\u001b[0m \u001b[0;34m=\u001b[0m \u001b[0;36m3\u001b[0m\u001b[0;34m\u001b[0m\u001b[0;34m\u001b[0m\u001b[0m\n\u001b[0m",
            "\u001b[0;31mTypeError\u001b[0m: 'tuple' object does not support item assignment"
          ]
        }
      ]
    },
    {
      "cell_type": "code",
      "metadata": {
        "id": "7Znyq5265YrG",
        "colab": {
          "base_uri": "https://localhost:8080/"
        },
        "outputId": "20b758a0-9b93-4f01-b376-5ba737f50591"
      },
      "source": [
        "a_set = {5, 3, 2, 5}\n",
        "a_set"
      ],
      "execution_count": 46,
      "outputs": [
        {
          "output_type": "execute_result",
          "data": {
            "text/plain": [
              "{2, 3, 5}"
            ]
          },
          "metadata": {},
          "execution_count": 46
        }
      ]
    },
    {
      "cell_type": "code",
      "metadata": {
        "id": "iLM9oAb45YrI",
        "colab": {
          "base_uri": "https://localhost:8080/"
        },
        "outputId": "82391d6c-9562-459f-d2bc-348bb40c3df6"
      },
      "source": [
        "a_dict = {}\n",
        "a_dict[5] = 12\n",
        "a_dict[\"key_2\"] = 27\n",
        "a_dict[\"key_3\"] = [13, \"value\"]\n",
        "a_dict"
      ],
      "execution_count": 47,
      "outputs": [
        {
          "output_type": "execute_result",
          "data": {
            "text/plain": [
              "{5: 12, 'key_2': 27, 'key_3': [13, 'value']}"
            ]
          },
          "metadata": {},
          "execution_count": 47
        }
      ]
    },
    {
      "cell_type": "markdown",
      "metadata": {
        "id": "c7wZLPbJ5YrJ"
      },
      "source": [
        "# Exercise 2\n",
        "\n",
        "**Lists**\n",
        "1. Create a list `['a', 'b', 'c']`\n",
        "2. use the `insert()` method to put the element `'d'` at index 1\n",
        "3. use the `remove()` method to delete the element `'b'` in the list\n",
        "\n",
        "**List comprehensions**\n",
        "1. What does the following list contain?\n",
        "```python\n",
        "X = [i for i in range(100)]\n",
        "```\n",
        "2. Interpret the following set as a list comprehension:\n",
        "$S_1 = \\{x\\in X \\mid x\\mod 5 = 2\\}$\n",
        "3. Intepret the following set as a list comprehension: $S_2 = \\{x \\in S_1 \\mid x \\text{ is even}\\}$\n",
        "4. generate the set of all tuples $(x,y)$ where $x\\in S_1$, $y\\in S_2$.\n",
        "\n",
        "**Other Collections**\n",
        "1. Try creating another type of collection\n",
        "2. try iterating over it."
      ]
    },
    {
      "cell_type": "markdown",
      "metadata": {
        "id": "FzmCqF6U5YrJ"
      },
      "source": [
        "# Classes\n",
        "\n",
        "Classes let you abstract away details while programming."
      ]
    },
    {
      "cell_type": "code",
      "metadata": {
        "id": "5YtP17yV5YrK"
      },
      "source": [
        "class Animal:\n",
        "    def say_hi(self):\n",
        "        print(\"Hello!\")"
      ],
      "execution_count": 49,
      "outputs": []
    },
    {
      "cell_type": "code",
      "metadata": {
        "id": "_y5B9PRy5YrL",
        "colab": {
          "base_uri": "https://localhost:8080/"
        },
        "outputId": "7168bc98-4e8e-425e-b8f9-92d5e4a207ca"
      },
      "source": [
        "x = Animal()\n",
        "x.say_hi()"
      ],
      "execution_count": 50,
      "outputs": [
        {
          "output_type": "stream",
          "name": "stdout",
          "text": [
            "Hello!\n"
          ]
        }
      ]
    },
    {
      "cell_type": "markdown",
      "metadata": {
        "id": "FxL8h02H5YrO"
      },
      "source": [
        "## Example: Rational Numbers\n",
        "\n",
        "Here we'l make a class that holds rational numbers (fractions).  That is, numbers of the form\n",
        "$$r = \\frac{p}{q}$$\n",
        "where $p$ and $q$ are integers"
      ]
    },
    {
      "cell_type": "code",
      "metadata": {
        "id": "KLIzqgXJ5YrO"
      },
      "source": [
        "class Rational:\n",
        "    def __init__(self, p, q=1):\n",
        "\n",
        "        if q == 0:\n",
        "            raise ValueError('Denominator must not be zero')\n",
        "        if not isinstance(p, int):\n",
        "            raise ValueError('Numerator must be an integer')\n",
        "        if not isinstance(q, int):\n",
        "            raise ValueError('Denominator must be an integer')\n",
        "\n",
        "        g = math.gcd(p, q)\n",
        "\n",
        "        self.p = p // g # integer division\n",
        "        self.q = q // g\n",
        "\n",
        "    # method to convert rational to float\n",
        "    def __float__(self):\n",
        "        return self.p / self.q\n",
        "\n",
        "    # method to convert rational to string for printing\n",
        "    def __str__(self):\n",
        "        return f'{self.p}/{self.q}'\n",
        "\n",
        "    def __repr__(self):\n",
        "        return f'Rational({self.p}, {self.q})'\n"
      ],
      "execution_count": 51,
      "outputs": []
    },
    {
      "cell_type": "code",
      "metadata": {
        "id": "MXQ2Bfvd5YrP",
        "colab": {
          "base_uri": "https://localhost:8080/"
        },
        "outputId": "a618b2e5-4406-4a2b-e831-a0c4bba101f7"
      },
      "source": [
        "a = Rational(6, 4)\n",
        "b = Rational(3, 2)\n",
        "\n",
        "print(type(a))\n",
        "print(f\"a = {a}\")\n",
        "print(f\"b = {b}\")\n",
        "print([a,b])\n",
        "print(f\"float(a) = {float(a)}\")"
      ],
      "execution_count": 52,
      "outputs": [
        {
          "output_type": "stream",
          "name": "stdout",
          "text": [
            "<class '__main__.Rational'>\n",
            "a = 3/2\n",
            "b = 3/2\n",
            "[Rational(3, 2), Rational(3, 2)]\n",
            "float(a) = 1.5\n"
          ]
        }
      ]
    },
    {
      "cell_type": "code",
      "metadata": {
        "id": "DiPmjfhU5YrT",
        "colab": {
          "base_uri": "https://localhost:8080/",
          "height": 146
        },
        "outputId": "269d8721-eecd-4b5e-fecd-f9b229089ad1"
      },
      "source": [
        "a + b"
      ],
      "execution_count": 53,
      "outputs": [
        {
          "output_type": "error",
          "ename": "TypeError",
          "evalue": "unsupported operand type(s) for +: 'Rational' and 'Rational'",
          "traceback": [
            "\u001b[0;31m---------------------------------------------------------------------------\u001b[0m",
            "\u001b[0;31mTypeError\u001b[0m                                 Traceback (most recent call last)",
            "\u001b[0;32m/tmp/ipython-input-1216668022.py\u001b[0m in \u001b[0;36m<cell line: 0>\u001b[0;34m()\u001b[0m\n\u001b[0;32m----> 1\u001b[0;31m \u001b[0ma\u001b[0m \u001b[0;34m+\u001b[0m \u001b[0mb\u001b[0m\u001b[0;34m\u001b[0m\u001b[0;34m\u001b[0m\u001b[0m\n\u001b[0m",
            "\u001b[0;31mTypeError\u001b[0m: unsupported operand type(s) for +: 'Rational' and 'Rational'"
          ]
        }
      ]
    },
    {
      "cell_type": "markdown",
      "metadata": {
        "id": "ApC7v-Oe5YrU"
      },
      "source": [
        "You can do cool things like overload math operators.  This lets you write code that looks like you would write math.  Recall\n",
        "\n",
        "$$ \\frac{p_1}{q_1} + \\frac{p_2}{q_2} = \\frac{p_1 q_2 + p_2 q_1}{q_1 q_2}$$\n",
        "\n",
        "We'll see this next time!"
      ]
    },
    {
      "cell_type": "code",
      "metadata": {
        "id": "Ncp31e0f5YrU"
      },
      "source": [],
      "execution_count": null,
      "outputs": []
    }
  ]
}