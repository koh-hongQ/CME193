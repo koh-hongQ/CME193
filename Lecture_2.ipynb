{
  "cells": [
    {
      "cell_type": "markdown",
      "metadata": {
        "id": "view-in-github",
        "colab_type": "text"
      },
      "source": [
        "<a href=\"https://colab.research.google.com/github/koh-hongQ/CME193/blob/main/Lecture_2.ipynb\" target=\"_parent\"><img src=\"https://colab.research.google.com/assets/colab-badge.svg\" alt=\"Open In Colab\"/></a>"
      ]
    },
    {
      "cell_type": "markdown",
      "metadata": {
        "id": "oj19bqNwx6ef"
      },
      "source": [
        "# CME 193 - Lecture 2\n",
        "\n",
        "This class we will cover\n",
        "1. Basics of creating classes and objects\n",
        "2. Basics of NumPy\n",
        "3. Some plotting"
      ]
    },
    {
      "cell_type": "markdown",
      "metadata": {
        "id": "oyn_Hp8qx6er"
      },
      "source": [
        "## Quick Recap of lists using Bank Account example"
      ]
    },
    {
      "cell_type": "code",
      "execution_count": 1,
      "metadata": {
        "id": "Cxlqcmv7x6et"
      },
      "outputs": [],
      "source": [
        "debits = []\n",
        "credits = []"
      ]
    },
    {
      "cell_type": "code",
      "execution_count": 2,
      "metadata": {
        "id": "6iLP_Qscx6ex"
      },
      "outputs": [],
      "source": [
        "def add_to_debits(value):\n",
        "    global debits\n",
        "    debits += [value]"
      ]
    },
    {
      "cell_type": "code",
      "execution_count": 3,
      "metadata": {
        "id": "PAkWh2P2x6ey"
      },
      "outputs": [],
      "source": [
        "def add_to_credits(value):\n",
        "    global credits\n",
        "    credits += [value]"
      ]
    },
    {
      "cell_type": "code",
      "execution_count": 4,
      "metadata": {
        "id": "qMsyiHZHx6e0"
      },
      "outputs": [],
      "source": [
        "add_to_credits(1000)\n",
        "add_to_debits(10)\n",
        "add_to_debits(15)\n",
        "add_to_debits(100)"
      ]
    },
    {
      "cell_type": "code",
      "execution_count": 5,
      "metadata": {
        "id": "SFAHHEv0x6e1"
      },
      "outputs": [],
      "source": [
        "def total_value():\n",
        "    global debits\n",
        "    global credits\n",
        "    total =0\n",
        "    for val in debits:\n",
        "        total-=val\n",
        "    for val in credits:\n",
        "        total+=val\n",
        "    return total"
      ]
    },
    {
      "cell_type": "code",
      "execution_count": 6,
      "metadata": {
        "id": "PoigKG4Px6e2",
        "outputId": "9d9f4c66-534f-4101-8d66-eb05b2446f49",
        "colab": {
          "base_uri": "https://localhost:8080/"
        }
      },
      "outputs": [
        {
          "output_type": "execute_result",
          "data": {
            "text/plain": [
              "875"
            ]
          },
          "metadata": {},
          "execution_count": 6
        }
      ],
      "source": [
        "total_value()"
      ]
    },
    {
      "cell_type": "markdown",
      "metadata": {
        "id": "aXwRbkFvx6e3"
      },
      "source": [
        "## Lets use Classes and Objects"
      ]
    },
    {
      "cell_type": "code",
      "execution_count": 7,
      "metadata": {
        "id": "9ajC7ASYx6e5"
      },
      "outputs": [],
      "source": [
        "class Account:\n",
        "    pass"
      ]
    },
    {
      "cell_type": "code",
      "execution_count": null,
      "metadata": {
        "id": "RvpbgqS-x6e6"
      },
      "outputs": [],
      "source": []
    },
    {
      "cell_type": "markdown",
      "metadata": {
        "id": "_RkvDrkZx6e7"
      },
      "source": [
        "## Exercise 1\n",
        "\n",
        "### Add more functionality to the account class\n",
        "\n",
        "1. Add a check before debits to ensure funds are available\n",
        "\n",
        "2. Add a `transfer` function to your account class, which transfers money form one account to another.It should add to the debits of one account and to the credits of the other."
      ]
    },
    {
      "cell_type": "code",
      "execution_count": null,
      "metadata": {
        "id": "DI9nW9ROx6e8"
      },
      "outputs": [],
      "source": []
    },
    {
      "cell_type": "markdown",
      "metadata": {
        "id": "MZu7B4Pox6e8"
      },
      "source": [
        "## Example: Rational Numbers\n",
        "\n",
        "Let's continue with our example of rational numbers (fractions), that is, numbers of the form\n",
        "$$r = \\frac{p}{q}$$\n",
        "where $p$ and $q$ are integers. Let's make it support addition using the formula:\n",
        "$$ \\frac{p_1}{q_1} + \\frac{p_2}{q_2} = \\frac{p_1 q_2 + p_2 q_1}{q_1 q_2}$$"
      ]
    },
    {
      "cell_type": "code",
      "execution_count": null,
      "metadata": {
        "id": "xQnOqQ-Gx6e9"
      },
      "outputs": [],
      "source": []
    },
    {
      "cell_type": "code",
      "execution_count": 8,
      "metadata": {
        "id": "xaU20EAzx6e-"
      },
      "outputs": [],
      "source": [
        "import math\n",
        "\n",
        "class Rational:\n",
        "    def __init__(self, p, q=1):\n",
        "\n",
        "        if q == 0:\n",
        "            raise ValueError('Denominator must not be zero')\n",
        "        if not isinstance(p, int):\n",
        "            raise TypeError('Numerator must be an integer')\n",
        "        if not isinstance(q, int):\n",
        "            raise TypeError('Denominator must be an integer')\n",
        "\n",
        "        g = math.gcd(p, q)\n",
        "\n",
        "        self.p = p // g\n",
        "        self.q = q // g\n",
        "\n",
        "    # method to convert rational to float\n",
        "    def __float__(self):\n",
        "        return float(self.p) / float(self.q)\n",
        "\n",
        "    # method to convert rational to string for printing\n",
        "    def __str__(self):\n",
        "        return '%d / %d' % (self.p, self.q)\n",
        "\n",
        "    # method to add two rationals - interprets self + other\n",
        "    def __add__(self, other):\n",
        "        if isinstance(other, Rational):\n",
        "            return Rational(self.p * other.q + other.p * self.q, self.q * other.q)\n",
        "        # -- if it's an integer...\n",
        "        elif isinstance(other, int):\n",
        "            return Rational(self.p + other * self.q, self.q)\n",
        "        # -- otherwise, we assume it will be a float\n",
        "        return float(self) + float(other)\n",
        "\n",
        "    def __radd__(self, other): # interprets other + self\n",
        "        return self + other # addition commutes!\n",
        ""
      ]
    },
    {
      "cell_type": "code",
      "execution_count": 9,
      "metadata": {
        "id": "c8sn3b9-x6e-",
        "outputId": "c102e2cd-3df0-4658-9a56-807461ee9ce3",
        "colab": {
          "base_uri": "https://localhost:8080/"
        }
      },
      "outputs": [
        {
          "output_type": "stream",
          "name": "stdout",
          "text": [
            "3 / 1\n"
          ]
        }
      ],
      "source": [
        "r = Rational(3)\n",
        "print(r)"
      ]
    },
    {
      "cell_type": "code",
      "execution_count": 10,
      "metadata": {
        "scrolled": true,
        "id": "y-Lbo2EHx6e_",
        "outputId": "1476d3e8-e6c0-4772-b898-3b3e31f26493",
        "colab": {
          "base_uri": "https://localhost:8080/"
        }
      },
      "outputs": [
        {
          "output_type": "stream",
          "name": "stdout",
          "text": [
            "Integer adding:\n",
            "right add\n",
            "11 / 2\n",
            "5.5\n"
          ]
        }
      ],
      "source": [
        "r = Rational(3, 2)\n",
        "print('Integer adding:')\n",
        "print('right add')\n",
        "print(r + 4)\n",
        "print(float(r + 4))"
      ]
    },
    {
      "cell_type": "code",
      "execution_count": 11,
      "metadata": {
        "id": "Pjo9fX6cx6e_",
        "outputId": "b40109ff-d77c-4d5a-cff7-130e78c5ce0d",
        "colab": {
          "base_uri": "https://localhost:8080/"
        }
      },
      "outputs": [
        {
          "output_type": "stream",
          "name": "stdout",
          "text": [
            "left add\n",
            "11 / 2\n",
            "5.5\n"
          ]
        }
      ],
      "source": [
        "print('left add')\n",
        "print(4 + r)\n",
        "print(float(4 + r))"
      ]
    },
    {
      "cell_type": "markdown",
      "metadata": {
        "id": "sMCU-0nOx6fA"
      },
      "source": [
        "# Exercise 2\n",
        "\n",
        "### Add more operations to `Rational`\n",
        "You can read about the available operations that you can overload [here](https://docs.python.org/3.7/reference/datamodel.html#emulating-numeric-types)\n",
        "\n",
        "Add the following operations to the `Rational` class:\n",
        "* `*` - use `__mul__`\n",
        "* `/` - use `__truediv__`\n",
        "* `-` - use `__sub__`\n",
        "\n",
        "You only need to define these operations between two `Rational` types - use an `if isinstance(other, Rational):` block.\n",
        "\n",
        "Make a few examples to convince yourself that this works.\n",
        "\n"
      ]
    },
    {
      "cell_type": "code",
      "execution_count": 12,
      "metadata": {
        "id": "befz_Oivx6fA"
      },
      "outputs": [],
      "source": [
        "class Rational:\n",
        "    def __init__(self, p, q=1):\n",
        "\n",
        "        if q == 0:\n",
        "            raise ValueError('Denominator must not be zero')\n",
        "        if not isinstance(p, int):\n",
        "            raise TypeError('Numerator must be an integer')\n",
        "        if not isinstance(q, int):\n",
        "            raise TypeError('Denominator must be an integer')\n",
        "\n",
        "        g = math.gcd(p, q)\n",
        "\n",
        "        self.p = p // g\n",
        "        self.q = q // g\n",
        "\n",
        "    # method to convert rational to float\n",
        "    def __float__(self):\n",
        "        return float(self.p) / float(self.q)\n",
        "\n",
        "    # method to convert rational to string for printing\n",
        "    def __str__(self):\n",
        "        return '%d / %d' % (self.p, self.q)\n",
        "\n",
        "    # method to add two rationals - interprets self + other\n",
        "    def __add__(self, other):\n",
        "        if isinstance(other, Rational):\n",
        "            return Rational(self.p * other.q + other.p * self.q, self.q * other.q)\n",
        "        # -- if it's an integer...\n",
        "        elif isinstance(other, int):\n",
        "            return Rational(self.p + other * self.q, self.q)\n",
        "        # -- otherwise, we assume it will be a float\n",
        "        return float(self) + float(other)\n",
        "\n",
        "    def __radd__(self, other): # interprets other + self\n",
        "        return self + other # addition commutes!\n",
        "\n",
        "    # subtraction\n",
        "    def __sub__(self, other):\n",
        "        raise NotImplementedError('Subtraction not implemented yet')\n",
        "\n",
        "    # multiplication\n",
        "    def __mul__(self, other):\n",
        "        raise NotImplementedError('Subtraction not implemented yet')\n",
        "\n",
        "    # division\n",
        "    def __truediv__(self, other):\n",
        "        raise NotImplementedError('Division not implemented yet')\n",
        ""
      ]
    },
    {
      "cell_type": "code",
      "execution_count": null,
      "metadata": {
        "id": "gba1nFmXx6fB"
      },
      "outputs": [],
      "source": [
        "# Write some examples to test your code"
      ]
    },
    {
      "cell_type": "markdown",
      "metadata": {
        "id": "-z2fvgRmx6fB"
      },
      "source": [
        "# Exercise 3\n",
        "## Square root of rationals using the Babylonian method\n",
        "\n",
        "Implement the [Babylonian Method](https://en.wikipedia.org/wiki/Methods_of_computing_square_roots#Babylonian_method) for computing the square root of a number $S$."
      ]
    },
    {
      "cell_type": "code",
      "execution_count": 13,
      "metadata": {
        "id": "0w024ogYx6fB"
      },
      "outputs": [],
      "source": [
        "def babylonian(S, num_iters=5):\n",
        "    raise NotImplementedError('Not implemented yet')"
      ]
    },
    {
      "cell_type": "code",
      "execution_count": 14,
      "metadata": {
        "id": "ClBEkkb1x6fC",
        "outputId": "d84c9689-f88b-49c1-d0fa-08742340a950",
        "colab": {
          "base_uri": "https://localhost:8080/"
        }
      },
      "outputs": [
        {
          "output_type": "execute_result",
          "data": {
            "text/plain": [
              "4.898979485566356"
            ]
          },
          "metadata": {},
          "execution_count": 14
        }
      ],
      "source": [
        "math.sqrt(24)"
      ]
    },
    {
      "cell_type": "markdown",
      "metadata": {
        "id": "nS7n32DUx6fF"
      },
      "source": [
        "# NumPy\n",
        "This is a good segue into NumPy. Python provides only a handful of numeric types: ints, longs, floats, and complex numbers. We just declared a class that implements rational numbers. NumPy implements one very useful numeric type: multidimensional arrays."
      ]
    },
    {
      "cell_type": "code",
      "execution_count": 16,
      "metadata": {
        "id": "1Utb-YXAx6fF",
        "outputId": "eb180849-6c12-47d0-845d-011a429bcb35",
        "colab": {
          "base_uri": "https://localhost:8080/"
        }
      },
      "outputs": [
        {
          "output_type": "execute_result",
          "data": {
            "text/plain": [
              "-0.9589242746631385"
            ]
          },
          "metadata": {},
          "execution_count": 16
        }
      ],
      "source": [
        "# Quick note on importing\n",
        "import math\n",
        "math.sin(5)"
      ]
    },
    {
      "cell_type": "code",
      "execution_count": 17,
      "metadata": {
        "id": "j-rZf3DVx6fG",
        "outputId": "0e2c6c93-2e0e-47d5-91c0-7be488207f7a",
        "colab": {
          "base_uri": "https://localhost:8080/"
        }
      },
      "outputs": [
        {
          "output_type": "execute_result",
          "data": {
            "text/plain": [
              "-0.9589242746631385"
            ]
          },
          "metadata": {},
          "execution_count": 17
        }
      ],
      "source": [
        "import math as m\n",
        "m.sin(5)"
      ]
    },
    {
      "cell_type": "code",
      "execution_count": 18,
      "metadata": {
        "id": "5QDJTR1Lx6fG"
      },
      "outputs": [],
      "source": [
        "import numpy as np"
      ]
    },
    {
      "cell_type": "code",
      "execution_count": 19,
      "metadata": {
        "id": "hOF79D9Kx6fG",
        "outputId": "e72e6d8e-b8b9-4d47-aa8d-f59be2ec257d",
        "colab": {
          "base_uri": "https://localhost:8080/"
        }
      },
      "outputs": [
        {
          "output_type": "execute_result",
          "data": {
            "text/plain": [
              "array([[0, 1],\n",
              "       [1, 5]])"
            ]
          },
          "metadata": {},
          "execution_count": 19
        }
      ],
      "source": [
        "x = np.array([[0, 1], [1, 5]])\n",
        "x"
      ]
    },
    {
      "cell_type": "code",
      "execution_count": 20,
      "metadata": {
        "id": "dsXS8v4Yx6fH",
        "outputId": "67a82182-5e75-4df1-8555-e4447756a4cd",
        "colab": {
          "base_uri": "https://localhost:8080/"
        }
      },
      "outputs": [
        {
          "output_type": "execute_result",
          "data": {
            "text/plain": [
              "array([[4, 0],\n",
              "       [0, 4]])"
            ]
          },
          "metadata": {},
          "execution_count": 20
        }
      ],
      "source": [
        "y = np.array([[4, 0], [0, 4]])\n",
        "y"
      ]
    },
    {
      "cell_type": "code",
      "execution_count": 21,
      "metadata": {
        "id": "2Ahx_GPmx6fH",
        "outputId": "7d73ca0d-6681-4072-f94b-9e79bdbb1a7e",
        "colab": {
          "base_uri": "https://localhost:8080/"
        }
      },
      "outputs": [
        {
          "output_type": "execute_result",
          "data": {
            "text/plain": [
              "array([[4, 1],\n",
              "       [1, 9]])"
            ]
          },
          "metadata": {},
          "execution_count": 21
        }
      ],
      "source": [
        "x + y"
      ]
    },
    {
      "cell_type": "code",
      "execution_count": 22,
      "metadata": {
        "id": "Ullx4k2Tx6fJ",
        "outputId": "b1d8c01c-e53b-4978-db45-1287d490e081",
        "colab": {
          "base_uri": "https://localhost:8080/"
        }
      },
      "outputs": [
        {
          "output_type": "execute_result",
          "data": {
            "text/plain": [
              "array([[ 0,  1],\n",
              "       [ 1, 25]])"
            ]
          },
          "metadata": {},
          "execution_count": 22
        }
      ],
      "source": [
        "x ** 2"
      ]
    },
    {
      "cell_type": "code",
      "execution_count": 23,
      "metadata": {
        "id": "gd2M1j3Jx6fK",
        "outputId": "9eae6980-0426-4bc8-c346-da36293996cd",
        "colab": {
          "base_uri": "https://localhost:8080/"
        }
      },
      "outputs": [
        {
          "output_type": "execute_result",
          "data": {
            "text/plain": [
              "array([[ 0,  4],\n",
              "       [ 4, 20]])"
            ]
          },
          "metadata": {},
          "execution_count": 23
        }
      ],
      "source": [
        "x @ y  # Matrix multiplication"
      ]
    },
    {
      "cell_type": "code",
      "execution_count": 24,
      "metadata": {
        "id": "nBvAuwdDx6fL",
        "outputId": "385643ad-0e64-47ad-ef7b-cb9cb451851c",
        "colab": {
          "base_uri": "https://localhost:8080/"
        }
      },
      "outputs": [
        {
          "output_type": "execute_result",
          "data": {
            "text/plain": [
              "np.int64(7)"
            ]
          },
          "metadata": {},
          "execution_count": 24
        }
      ],
      "source": [
        "np.sum(x)"
      ]
    },
    {
      "cell_type": "markdown",
      "metadata": {
        "id": "SJhLUuLYx6fL"
      },
      "source": [
        "### Why NumpPy?"
      ]
    },
    {
      "cell_type": "code",
      "execution_count": 25,
      "metadata": {
        "id": "T3nxsGFMx6fM",
        "outputId": "d4b7e21f-2a45-4fa7-af34-bbd3132c7eab",
        "colab": {
          "base_uri": "https://localhost:8080/"
        }
      },
      "outputs": [
        {
          "output_type": "stream",
          "name": "stdout",
          "text": [
            "3.73 ms ± 63.6 µs per loop (mean ± std. dev. of 7 runs, 100 loops each)\n"
          ]
        }
      ],
      "source": [
        "%%timeit\n",
        "x = np.random.rand(10000)\n",
        "y = np.random.rand(10000)\n",
        "z=0\n",
        "for i in range(10000):\n",
        "    z += x[i]*y[i]"
      ]
    },
    {
      "cell_type": "code",
      "execution_count": 26,
      "metadata": {
        "id": "4xcHftK8x6fM",
        "outputId": "af51a41c-6d9e-4531-a70b-bce7949377e7",
        "colab": {
          "base_uri": "https://localhost:8080/"
        }
      },
      "outputs": [
        {
          "output_type": "stream",
          "name": "stdout",
          "text": [
            "200 µs ± 5.73 µs per loop (mean ± std. dev. of 7 runs, 1000 loops each)\n"
          ]
        }
      ],
      "source": [
        "%%timeit\n",
        "x = np.random.rand(10000)\n",
        "y = np.random.rand(10000)\n",
        "z = np.dot(x,y)"
      ]
    },
    {
      "cell_type": "markdown",
      "metadata": {
        "id": "_VM5uTlsx6fa"
      },
      "source": [
        "## NumPy functions for creating arrays"
      ]
    },
    {
      "cell_type": "code",
      "execution_count": 27,
      "metadata": {
        "id": "fMAmjNrzx6fb",
        "outputId": "3d0014df-1482-4e2d-86b3-f95d833efc74",
        "colab": {
          "base_uri": "https://localhost:8080/"
        }
      },
      "outputs": [
        {
          "output_type": "execute_result",
          "data": {
            "text/plain": [
              "array([[0., 0., 0., 0., 0., 0., 0., 0., 0., 0.],\n",
              "       [0., 0., 0., 0., 0., 0., 0., 0., 0., 0.],\n",
              "       [0., 0., 0., 0., 0., 0., 0., 0., 0., 0.],\n",
              "       [0., 0., 0., 0., 0., 0., 0., 0., 0., 0.],\n",
              "       [0., 0., 0., 0., 0., 0., 0., 0., 0., 0.],\n",
              "       [0., 0., 0., 0., 0., 0., 0., 0., 0., 0.],\n",
              "       [0., 0., 0., 0., 0., 0., 0., 0., 0., 0.],\n",
              "       [0., 0., 0., 0., 0., 0., 0., 0., 0., 0.],\n",
              "       [0., 0., 0., 0., 0., 0., 0., 0., 0., 0.],\n",
              "       [0., 0., 0., 0., 0., 0., 0., 0., 0., 0.]])"
            ]
          },
          "metadata": {},
          "execution_count": 27
        }
      ],
      "source": [
        "X=np.zeros((10,10))\n",
        "X"
      ]
    },
    {
      "cell_type": "code",
      "execution_count": 28,
      "metadata": {
        "id": "yz4ejK3Jx6fb",
        "outputId": "094fd020-827a-488e-ab18-47f50253cbc7",
        "colab": {
          "base_uri": "https://localhost:8080/"
        }
      },
      "outputs": [
        {
          "output_type": "execute_result",
          "data": {
            "text/plain": [
              "(10, 10)"
            ]
          },
          "metadata": {},
          "execution_count": 28
        }
      ],
      "source": [
        "X.shape"
      ]
    },
    {
      "cell_type": "code",
      "execution_count": 29,
      "metadata": {
        "id": "OEO64jK3x6fc",
        "outputId": "3d6491a4-bbaf-4727-f4c8-5393a2e6b659",
        "colab": {
          "base_uri": "https://localhost:8080/"
        }
      },
      "outputs": [
        {
          "output_type": "execute_result",
          "data": {
            "text/plain": [
              "array([[1., 1., 1., 1., 1., 1., 1., 1., 1., 1.],\n",
              "       [1., 1., 1., 1., 1., 1., 1., 1., 1., 1.],\n",
              "       [1., 1., 1., 1., 1., 1., 1., 1., 1., 1.],\n",
              "       [1., 1., 1., 1., 1., 1., 1., 1., 1., 1.],\n",
              "       [1., 1., 1., 1., 1., 1., 1., 1., 1., 1.],\n",
              "       [1., 1., 1., 1., 1., 1., 1., 1., 1., 1.],\n",
              "       [1., 1., 1., 1., 1., 1., 1., 1., 1., 1.],\n",
              "       [1., 1., 1., 1., 1., 1., 1., 1., 1., 1.],\n",
              "       [1., 1., 1., 1., 1., 1., 1., 1., 1., 1.],\n",
              "       [1., 1., 1., 1., 1., 1., 1., 1., 1., 1.]])"
            ]
          },
          "metadata": {},
          "execution_count": 29
        }
      ],
      "source": [
        "Y=np.ones((10,10))\n",
        "Y"
      ]
    },
    {
      "cell_type": "code",
      "execution_count": 30,
      "metadata": {
        "id": "Sf9Sh3A1x6fd",
        "outputId": "d8666e8a-67e3-458c-8490-ac62607f2ae6",
        "colab": {
          "base_uri": "https://localhost:8080/"
        }
      },
      "outputs": [
        {
          "output_type": "execute_result",
          "data": {
            "text/plain": [
              "array([[5., 5., 5., 5., 5., 5., 5., 5., 5., 5.],\n",
              "       [5., 5., 5., 5., 5., 5., 5., 5., 5., 5.],\n",
              "       [5., 5., 5., 5., 5., 5., 5., 5., 5., 5.],\n",
              "       [5., 5., 5., 5., 5., 5., 5., 5., 5., 5.],\n",
              "       [5., 5., 5., 5., 5., 5., 5., 5., 5., 5.],\n",
              "       [5., 5., 5., 5., 5., 5., 5., 5., 5., 5.],\n",
              "       [5., 5., 5., 5., 5., 5., 5., 5., 5., 5.],\n",
              "       [5., 5., 5., 5., 5., 5., 5., 5., 5., 5.],\n",
              "       [5., 5., 5., 5., 5., 5., 5., 5., 5., 5.],\n",
              "       [5., 5., 5., 5., 5., 5., 5., 5., 5., 5.]])"
            ]
          },
          "metadata": {},
          "execution_count": 30
        }
      ],
      "source": [
        "2*Y+3"
      ]
    },
    {
      "cell_type": "code",
      "execution_count": 31,
      "metadata": {
        "id": "JfRFwumGx6fd",
        "outputId": "770e0e75-c141-4265-f651-aa803f496009",
        "colab": {
          "base_uri": "https://localhost:8080/"
        }
      },
      "outputs": [
        {
          "output_type": "execute_result",
          "data": {
            "text/plain": [
              "array([[0.58802949, 0.22469415, 0.42215788, 0.63687618, 0.35649424],\n",
              "       [0.67090505, 0.76299827, 0.78160104, 0.8031056 , 0.02537686],\n",
              "       [0.09943684, 0.26765836, 0.60798388, 0.04550098, 0.47559453],\n",
              "       [0.42638285, 0.17296266, 0.68669278, 0.92574425, 0.64542414],\n",
              "       [0.96251519, 0.62231865, 0.23988231, 0.33011466, 0.75482808]])"
            ]
          },
          "metadata": {},
          "execution_count": 31
        }
      ],
      "source": [
        "R=np.random.rand(5,5)\n",
        "R"
      ]
    },
    {
      "cell_type": "code",
      "execution_count": 32,
      "metadata": {
        "id": "IWsggUrTx6fd",
        "outputId": "0c1e7308-059b-47f5-df0c-dd7962af5e15",
        "colab": {
          "base_uri": "https://localhost:8080/"
        }
      },
      "outputs": [
        {
          "output_type": "execute_result",
          "data": {
            "text/plain": [
              "array([[ 0.0656119 , -0.36349699, -1.88454083, -1.87965946,  1.29458869],\n",
              "       [ 0.04768869, -0.18549463, -0.82589606, -1.1074978 , -1.20490945],\n",
              "       [-1.28582228,  1.11066971,  0.15270664,  1.37837619,  1.62571917],\n",
              "       [ 0.28838169,  1.1197423 , -0.76466062,  0.41686448,  0.89310035],\n",
              "       [ 1.28745478,  0.69901636,  0.60052219,  2.10812435,  0.85344855]])"
            ]
          },
          "metadata": {},
          "execution_count": 32
        }
      ],
      "source": [
        "Rn = np.random.randn(5,5)\n",
        "Rn"
      ]
    },
    {
      "cell_type": "code",
      "execution_count": 33,
      "metadata": {
        "id": "UekPtC_2x6fe",
        "outputId": "f48a5b59-c16b-4d07-a93f-68c382c99f4f",
        "colab": {
          "base_uri": "https://localhost:8080/"
        }
      },
      "outputs": [
        {
          "output_type": "execute_result",
          "data": {
            "text/plain": [
              "array([ 1,  3,  5,  7,  9, 11, 13, 15, 17, 19, 21, 23, 25, 27, 29, 31, 33,\n",
              "       35, 37, 39, 41, 43, 45, 47, 49, 51, 53, 55, 57, 59, 61, 63, 65, 67,\n",
              "       69, 71, 73, 75, 77, 79, 81, 83, 85, 87, 89, 91, 93, 95, 97, 99])"
            ]
          },
          "metadata": {},
          "execution_count": 33
        }
      ],
      "source": [
        "np.arange(1,100,2)"
      ]
    },
    {
      "cell_type": "code",
      "execution_count": 34,
      "metadata": {
        "id": "BYFpCVRGx6fe",
        "outputId": "c867349f-4baa-4b47-999a-0acd46315fc5",
        "colab": {
          "base_uri": "https://localhost:8080/"
        }
      },
      "outputs": [
        {
          "output_type": "execute_result",
          "data": {
            "text/plain": [
              "array([0.        , 0.55555556, 1.11111111, 1.66666667, 2.22222222,\n",
              "       2.77777778, 3.33333333, 3.88888889, 4.44444444, 5.        ])"
            ]
          },
          "metadata": {},
          "execution_count": 34
        }
      ],
      "source": [
        "np.linspace(0,5,10)"
      ]
    },
    {
      "cell_type": "code",
      "execution_count": 35,
      "metadata": {
        "id": "LCJLSyP1x6fe",
        "outputId": "fb3683fe-ef7c-4a6a-d4b9-70bb2bd30928",
        "colab": {
          "base_uri": "https://localhost:8080/"
        }
      },
      "outputs": [
        {
          "output_type": "execute_result",
          "data": {
            "text/plain": [
              "array([ 0,  1,  2,  3,  4,  5,  6,  7,  8,  9, 10, 11, 12, 13, 14, 15, 16,\n",
              "       17, 18, 19, 20, 21, 22, 23, 24, 25, 26, 27, 28, 29, 30, 31, 32, 33,\n",
              "       34, 35, 36, 37, 38, 39, 40, 41, 42, 43, 44, 45, 46, 47, 48, 49, 50,\n",
              "       51, 52, 53, 54, 55, 56, 57, 58, 59, 60, 61, 62, 63, 64, 65, 66, 67,\n",
              "       68, 69, 70, 71, 72, 73, 74, 75, 76, 77, 78, 79, 80, 81, 82, 83, 84,\n",
              "       85, 86, 87, 88, 89, 90, 91, 92, 93, 94, 95, 96, 97, 98, 99])"
            ]
          },
          "metadata": {},
          "execution_count": 35
        }
      ],
      "source": [
        "X = np.arange(0,100)\n",
        "X"
      ]
    },
    {
      "cell_type": "code",
      "execution_count": 36,
      "metadata": {
        "id": "2lmjazXIx6ff",
        "outputId": "ed35d847-db1e-4087-91ed-056faa2a9f8a",
        "colab": {
          "base_uri": "https://localhost:8080/"
        }
      },
      "outputs": [
        {
          "output_type": "execute_result",
          "data": {
            "text/plain": [
              "array([[ 0,  1,  2,  3,  4,  5,  6,  7,  8,  9],\n",
              "       [10, 11, 12, 13, 14, 15, 16, 17, 18, 19],\n",
              "       [20, 21, 22, 23, 24, 25, 26, 27, 28, 29],\n",
              "       [30, 31, 32, 33, 34, 35, 36, 37, 38, 39],\n",
              "       [40, 41, 42, 43, 44, 45, 46, 47, 48, 49],\n",
              "       [50, 51, 52, 53, 54, 55, 56, 57, 58, 59],\n",
              "       [60, 61, 62, 63, 64, 65, 66, 67, 68, 69],\n",
              "       [70, 71, 72, 73, 74, 75, 76, 77, 78, 79],\n",
              "       [80, 81, 82, 83, 84, 85, 86, 87, 88, 89],\n",
              "       [90, 91, 92, 93, 94, 95, 96, 97, 98, 99]])"
            ]
          },
          "metadata": {},
          "execution_count": 36
        }
      ],
      "source": [
        "X.reshape((10,10))"
      ]
    },
    {
      "cell_type": "markdown",
      "metadata": {
        "id": "EfpPzxvpx6ff"
      },
      "source": [
        "# Exercise 4\n",
        "\n",
        "## Numpy Array construction\n",
        "\n",
        "1. 5 by 10 array with all elements random between 50 and 100.\n",
        "2. All numbers between 50 and 51, separated by 0.01"
      ]
    },
    {
      "cell_type": "code",
      "execution_count": null,
      "metadata": {
        "id": "Hceq__Sxx6ff"
      },
      "outputs": [],
      "source": []
    },
    {
      "cell_type": "markdown",
      "metadata": {
        "id": "VF_-i9mhx6ff"
      },
      "source": [
        "# Plotting\n",
        "\n",
        "We will see some functions to do some quick plotting, we will come back to this library later."
      ]
    },
    {
      "cell_type": "code",
      "execution_count": 37,
      "metadata": {
        "id": "k1055D5Tx6fg"
      },
      "outputs": [],
      "source": [
        "import matplotlib.pyplot as plt"
      ]
    },
    {
      "cell_type": "code",
      "execution_count": 38,
      "metadata": {
        "id": "Khsmz8FGx6fh",
        "outputId": "38f4daf9-943d-4422-80f7-c5aee4bd095c",
        "colab": {
          "base_uri": "https://localhost:8080/"
        }
      },
      "outputs": [
        {
          "output_type": "execute_result",
          "data": {
            "text/plain": [
              "array([-5.        , -4.8989899 , -4.7979798 , -4.6969697 , -4.5959596 ,\n",
              "       -4.49494949, -4.39393939, -4.29292929, -4.19191919, -4.09090909,\n",
              "       -3.98989899, -3.88888889, -3.78787879, -3.68686869, -3.58585859,\n",
              "       -3.48484848, -3.38383838, -3.28282828, -3.18181818, -3.08080808,\n",
              "       -2.97979798, -2.87878788, -2.77777778, -2.67676768, -2.57575758,\n",
              "       -2.47474747, -2.37373737, -2.27272727, -2.17171717, -2.07070707,\n",
              "       -1.96969697, -1.86868687, -1.76767677, -1.66666667, -1.56565657,\n",
              "       -1.46464646, -1.36363636, -1.26262626, -1.16161616, -1.06060606,\n",
              "       -0.95959596, -0.85858586, -0.75757576, -0.65656566, -0.55555556,\n",
              "       -0.45454545, -0.35353535, -0.25252525, -0.15151515, -0.05050505,\n",
              "        0.05050505,  0.15151515,  0.25252525,  0.35353535,  0.45454545,\n",
              "        0.55555556,  0.65656566,  0.75757576,  0.85858586,  0.95959596,\n",
              "        1.06060606,  1.16161616,  1.26262626,  1.36363636,  1.46464646,\n",
              "        1.56565657,  1.66666667,  1.76767677,  1.86868687,  1.96969697,\n",
              "        2.07070707,  2.17171717,  2.27272727,  2.37373737,  2.47474747,\n",
              "        2.57575758,  2.67676768,  2.77777778,  2.87878788,  2.97979798,\n",
              "        3.08080808,  3.18181818,  3.28282828,  3.38383838,  3.48484848,\n",
              "        3.58585859,  3.68686869,  3.78787879,  3.88888889,  3.98989899,\n",
              "        4.09090909,  4.19191919,  4.29292929,  4.39393939,  4.49494949,\n",
              "        4.5959596 ,  4.6969697 ,  4.7979798 ,  4.8989899 ,  5.        ])"
            ]
          },
          "metadata": {},
          "execution_count": 38
        }
      ],
      "source": [
        "x = np.linspace(-5,5,100)\n",
        "x"
      ]
    },
    {
      "cell_type": "code",
      "execution_count": 39,
      "metadata": {
        "id": "t7XOp-mEx6fh",
        "outputId": "2d20ec5e-e86d-44e5-eb95-733f1bac0b79",
        "colab": {
          "base_uri": "https://localhost:8080/"
        }
      },
      "outputs": [
        {
          "output_type": "execute_result",
          "data": {
            "text/plain": [
              "array([2.50000000e+01, 2.40001020e+01, 2.30206101e+01, 2.20615243e+01,\n",
              "       2.11228446e+01, 2.02045710e+01, 1.93067034e+01, 1.84292419e+01,\n",
              "       1.75721865e+01, 1.67355372e+01, 1.59192939e+01, 1.51234568e+01,\n",
              "       1.43480257e+01, 1.35930007e+01, 1.28583818e+01, 1.21441690e+01,\n",
              "       1.14503622e+01, 1.07769615e+01, 1.01239669e+01, 9.49137843e+00,\n",
              "       8.87919600e+00, 8.28741965e+00, 7.71604938e+00, 7.16508520e+00,\n",
              "       6.63452709e+00, 6.12437506e+00, 5.63462912e+00, 5.16528926e+00,\n",
              "       4.71635547e+00, 4.28782777e+00, 3.87970615e+00, 3.49199061e+00,\n",
              "       3.12468115e+00, 2.77777778e+00, 2.45128048e+00, 2.14518927e+00,\n",
              "       1.85950413e+00, 1.59422508e+00, 1.34935211e+00, 1.12488522e+00,\n",
              "       9.20824406e-01, 7.37169677e-01, 5.73921028e-01, 4.31078461e-01,\n",
              "       3.08641975e-01, 2.06611570e-01, 1.24987246e-01, 6.37690032e-02,\n",
              "       2.29568411e-02, 2.55076013e-03, 2.55076013e-03, 2.29568411e-02,\n",
              "       6.37690032e-02, 1.24987246e-01, 2.06611570e-01, 3.08641975e-01,\n",
              "       4.31078461e-01, 5.73921028e-01, 7.37169677e-01, 9.20824406e-01,\n",
              "       1.12488522e+00, 1.34935211e+00, 1.59422508e+00, 1.85950413e+00,\n",
              "       2.14518927e+00, 2.45128048e+00, 2.77777778e+00, 3.12468115e+00,\n",
              "       3.49199061e+00, 3.87970615e+00, 4.28782777e+00, 4.71635547e+00,\n",
              "       5.16528926e+00, 5.63462912e+00, 6.12437506e+00, 6.63452709e+00,\n",
              "       7.16508520e+00, 7.71604938e+00, 8.28741965e+00, 8.87919600e+00,\n",
              "       9.49137843e+00, 1.01239669e+01, 1.07769615e+01, 1.14503622e+01,\n",
              "       1.21441690e+01, 1.28583818e+01, 1.35930007e+01, 1.43480257e+01,\n",
              "       1.51234568e+01, 1.59192939e+01, 1.67355372e+01, 1.75721865e+01,\n",
              "       1.84292419e+01, 1.93067034e+01, 2.02045710e+01, 2.11228446e+01,\n",
              "       2.20615243e+01, 2.30206101e+01, 2.40001020e+01, 2.50000000e+01])"
            ]
          },
          "metadata": {},
          "execution_count": 39
        }
      ],
      "source": [
        "y = x*x\n",
        "y"
      ]
    },
    {
      "cell_type": "code",
      "execution_count": 40,
      "metadata": {
        "id": "-BxjME5Qx6fi",
        "outputId": "8f38a50e-d13f-4c89-c2de-7f934fe51a35",
        "colab": {
          "base_uri": "https://localhost:8080/",
          "height": 448
        }
      },
      "outputs": [
        {
          "output_type": "execute_result",
          "data": {
            "text/plain": [
              "[<matplotlib.lines.Line2D at 0x7c0c8dbda2a0>]"
            ]
          },
          "metadata": {},
          "execution_count": 40
        },
        {
          "output_type": "display_data",
          "data": {
            "text/plain": [
              "<Figure size 640x480 with 1 Axes>"
            ],
            "image/png": "[encoded data removed]"
          },
          "metadata": {}
        }
      ],
      "source": [
        "plt.plot(x,y)"
      ]
    },
    {
      "cell_type": "code",
      "execution_count": 41,
      "metadata": {
        "id": "WrVcjqfSx6fi",
        "outputId": "ac988623-f1de-4b50-83bf-a76e482fad63",
        "colab": {
          "base_uri": "https://localhost:8080/",
          "height": 448
        }
      },
      "outputs": [
        {
          "output_type": "execute_result",
          "data": {
            "text/plain": [
              "[<matplotlib.lines.Line2D at 0x7c0c8d107980>]"
            ]
          },
          "metadata": {},
          "execution_count": 41
        },
        {
          "output_type": "display_data",
          "data": {
            "text/plain": [
              "<Figure size 640x480 with 1 Axes>"
            ],
            "image/png": "[encoded data removed]"
          },
          "metadata": {}
        }
      ],
      "source": [
        "plt.plot(y)"
      ]
    },
    {
      "cell_type": "code",
      "execution_count": 42,
      "metadata": {
        "id": "em0nvfacx6fj",
        "outputId": "5ba0e0d5-fad5-4643-df21-cd9178282283",
        "colab": {
          "base_uri": "https://localhost:8080/",
          "height": 448
        }
      },
      "outputs": [
        {
          "output_type": "execute_result",
          "data": {
            "text/plain": [
              "[<matplotlib.lines.Line2D at 0x7c0c8cd3c140>]"
            ]
          },
          "metadata": {},
          "execution_count": 42
        },
        {
          "output_type": "display_data",
          "data": {
            "text/plain": [
              "<Figure size 640x480 with 1 Axes>"
            ],
            "image/png": "[encoded data removed]"
          },
          "metadata": {}
        }
      ],
      "source": [
        "plt.plot(np.random.rand(10))"
      ]
    },
    {
      "cell_type": "code",
      "execution_count": 43,
      "metadata": {
        "id": "-Sp14c8Hx6fj",
        "outputId": "a4e117ba-a9bf-4fd6-bdcc-8508bfc7887d",
        "colab": {
          "base_uri": "https://localhost:8080/",
          "height": 448
        }
      },
      "outputs": [
        {
          "output_type": "execute_result",
          "data": {
            "text/plain": [
              "[<matplotlib.lines.Line2D at 0x7c0c8cdbcb60>]"
            ]
          },
          "metadata": {},
          "execution_count": 43
        },
        {
          "output_type": "display_data",
          "data": {
            "text/plain": [
              "<Figure size 640x480 with 1 Axes>"
            ],
            "image/png": "[encoded data removed]"
          },
          "metadata": {}
        }
      ],
      "source": [
        "plt.plot(np.random.rand(10))\n",
        "plt.plot(np.random.rand(10))"
      ]
    },
    {
      "cell_type": "code",
      "execution_count": 44,
      "metadata": {
        "id": "VkU7P697x6fk",
        "outputId": "3c663161-a57d-4875-c2ac-41ab0b1d2a79",
        "colab": {
          "base_uri": "https://localhost:8080/",
          "height": 490
        }
      },
      "outputs": [
        {
          "output_type": "execute_result",
          "data": {
            "text/plain": [
              "Text(0.5, 1.0, 'Title')"
            ]
          },
          "metadata": {},
          "execution_count": 44
        },
        {
          "output_type": "display_data",
          "data": {
            "text/plain": [
              "<Figure size 640x480 with 1 Axes>"
            ],
            "image/png": "[encoded data removed]"
          },
          "metadata": {}
        }
      ],
      "source": [
        "plt.plot(np.random.rand(10))\n",
        "plt.plot(np.random.rand(10))\n",
        "plt.legend([\"curve1\",\"curve2\"])\n",
        "plt.xlabel(\"X label\")\n",
        "plt.ylabel(\"Y label\")\n",
        "plt.title(\"Title\")"
      ]
    },
    {
      "cell_type": "code",
      "execution_count": null,
      "metadata": {
        "id": "eF9L_XSvx6fl"
      },
      "outputs": [],
      "source": []
    }
  ],
  "metadata": {
    "kernelspec": {
      "display_name": "Python (3.6-cme193_new)",
      "language": "python",
      "name": "cme193_new"
    },
    "language_info": {
      "codemirror_mode": {
        "name": "ipython",
        "version": 3
      },
      "file_extension": ".py",
      "mimetype": "text/x-python",
      "name": "python",
      "nbconvert_exporter": "python",
      "pygments_lexer": "ipython3",
      "version": "3.6.8"
    },
    "colab": {
      "provenance": [],
      "include_colab_link": true
    }
  },
  "nbformat": 4,
  "nbformat_minor": 0
}